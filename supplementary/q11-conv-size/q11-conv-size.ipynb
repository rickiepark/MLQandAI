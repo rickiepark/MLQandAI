{
  "cells": [
    {
      "cell_type": "markdown",
      "metadata": {
        "id": "view-in-github",
        "colab_type": "text"
      },
      "source": [
        "<a href=\"https://colab.research.google.com/github/rickiepark/MLQandAI/blob/main/supplementary/q11-conv-size/q11-conv-size.ipynb\" target=\"_parent\"><img src=\"https://colab.research.google.com/assets/colab-badge.svg\" alt=\"Open In Colab\"/></a>"
      ]
    },
    {
      "cell_type": "markdown",
      "id": "c2b92e14-aa49-4b4c-b0c3-af07314eb8a7",
      "metadata": {
        "id": "c2b92e14-aa49-4b4c-b0c3-af07314eb8a7"
      },
      "source": [
        "# 11장의 예제 코드"
      ]
    },
    {
      "cell_type": "code",
      "execution_count": 1,
      "id": "a99e7ac1-9681-45c1-a4ef-715491d22828",
      "metadata": {
        "id": "a99e7ac1-9681-45c1-a4ef-715491d22828",
        "outputId": "1fd66166-6b85-488c-f5a4-0a7f68312463",
        "colab": {
          "base_uri": "https://localhost:8080/"
        }
      },
      "outputs": [
        {
          "output_type": "stream",
          "name": "stdout",
          "text": [
            "파이토치 버전: 2.4.0+cu121\n"
          ]
        }
      ],
      "source": [
        "import torch\n",
        "print(f\"파이토치 버전: {torch.__version__}\")"
      ]
    },
    {
      "cell_type": "markdown",
      "id": "94a0ce0c-2b97-4c1b-a1a8-8edaa547c5e1",
      "metadata": {
        "id": "94a0ce0c-2b97-4c1b-a1a8-8edaa547c5e1"
      },
      "source": [
        "## 1) 합성곱 신경망"
      ]
    },
    {
      "cell_type": "code",
      "execution_count": 2,
      "id": "c0cfee5b-2923-4f52-8e82-7ea0a306bcc9",
      "metadata": {
        "id": "c0cfee5b-2923-4f52-8e82-7ea0a306bcc9"
      },
      "outputs": [],
      "source": [
        "class PyTorchCNN(torch.nn.Module):\n",
        "    def __init__(self, num_classes):\n",
        "        super().__init__()\n",
        "\n",
        "        self.num_classes = num_classes\n",
        "        self.features = torch.nn.Sequential(\n",
        "            torch.nn.Conv2d(3, 5, kernel_size=5, stride=1), # 5 * (5*5 * 3) + 5\n",
        "            torch.nn.ReLU(),\n",
        "            torch.nn.MaxPool2d(kernel_size=5, stride=2),\n",
        "            torch.nn.Conv2d(5, 12, kernel_size=3, stride=1),  # 12 * (3*3 * 5) + 12\n",
        "            torch.nn.ReLU(),\n",
        "            torch.nn.AvgPool2d(kernel_size=3, stride=2),\n",
        "            torch.nn.ReLU(),\n",
        "        )\n",
        "\n",
        "        self.classifier = torch.nn.Sequential(\n",
        "            torch.nn.Flatten(),\n",
        "            torch.nn.Linear(192, 128), # 192 * 128 + 128\n",
        "            torch.nn.ReLU(),\n",
        "            torch.nn.Linear(128, num_classes), # 128 * 10 + 10\n",
        "        )\n",
        "\n",
        "    def forward(self, x):\n",
        "        x = self.features(x)\n",
        "        x = self.classifier(x)\n",
        "        return x"
      ]
    },
    {
      "cell_type": "markdown",
      "id": "811d96c1-2269-4cc5-9b40-d3ddbc872693",
      "metadata": {
        "id": "811d96c1-2269-4cc5-9b40-d3ddbc872693"
      },
      "source": [
        "## 2) 파라미터 개수 계산하기"
      ]
    },
    {
      "cell_type": "markdown",
      "id": "8473aea9-c497-46d6-8374-d4c8e044ed31",
      "metadata": {
        "id": "8473aea9-c497-46d6-8374-d4c8e044ed31"
      },
      "source": [
        "### 2 a) 직접"
      ]
    },
    {
      "cell_type": "code",
      "execution_count": 3,
      "id": "6e0a7164-846f-4054-9493-ccacc519ee51",
      "metadata": {
        "id": "6e0a7164-846f-4054-9493-ccacc519ee51",
        "outputId": "d07d43af-cc4c-4fd9-b3da-6563b069fcbb",
        "colab": {
          "base_uri": "https://localhost:8080/"
        }
      },
      "outputs": [
        {
          "output_type": "stream",
          "name": "stdout",
          "text": [
            "932\n"
          ]
        }
      ],
      "source": [
        "# 합성곱 층 파라미터\n",
        "conv_part =  (5 * (5*5 * 3) + 5 ) + ( 12 * (3*3 * 5) + 12 )\n",
        "print(conv_part)"
      ]
    },
    {
      "cell_type": "code",
      "execution_count": 4,
      "id": "313597c8-3295-4373-b0dc-f6273733afc9",
      "metadata": {
        "id": "313597c8-3295-4373-b0dc-f6273733afc9",
        "outputId": "92dd5465-6027-4410-e804-c2448aaae350",
        "colab": {
          "base_uri": "https://localhost:8080/"
        }
      },
      "outputs": [
        {
          "output_type": "stream",
          "name": "stdout",
          "text": [
            "25994\n"
          ]
        }
      ],
      "source": [
        "# 완전 연결 층 파라미터\n",
        "fc_part = 192*128+128 + 128*10+10\n",
        "print(fc_part)"
      ]
    },
    {
      "cell_type": "code",
      "execution_count": 5,
      "id": "a7d77806-33c1-4b0a-bf29-22643ec4938f",
      "metadata": {
        "id": "a7d77806-33c1-4b0a-bf29-22643ec4938f",
        "outputId": "4a58e13e-baad-4f41-dc24-1d158c7d5f98",
        "colab": {
          "base_uri": "https://localhost:8080/"
        }
      },
      "outputs": [
        {
          "output_type": "stream",
          "name": "stdout",
          "text": [
            "26926\n"
          ]
        }
      ],
      "source": [
        "# 총 파라미터\n",
        "print(conv_part + fc_part)"
      ]
    },
    {
      "cell_type": "markdown",
      "id": "dd5e430f-1f76-477c-86e7-22372d6dbbdd",
      "metadata": {
        "id": "dd5e430f-1f76-477c-86e7-22372d6dbbdd"
      },
      "source": [
        "### 2 b) .parameters() 사용하기"
      ]
    },
    {
      "cell_type": "code",
      "execution_count": 6,
      "id": "d1f1d38c-d19e-41bb-b8b2-c9cfa19a8b42",
      "metadata": {
        "id": "d1f1d38c-d19e-41bb-b8b2-c9cfa19a8b42"
      },
      "outputs": [],
      "source": [
        "model = PyTorchCNN(10)\n",
        "\n",
        "def count_parameters(model):\n",
        "    return sum(p.numel() for p in model.parameters() if p.requires_grad)"
      ]
    },
    {
      "cell_type": "code",
      "execution_count": 7,
      "id": "9c6f9f5f-422e-4154-9db8-335bab3e5a7a",
      "metadata": {
        "id": "9c6f9f5f-422e-4154-9db8-335bab3e5a7a",
        "outputId": "a1b7c53d-ebe0-4152-a78d-2167116914df",
        "colab": {
          "base_uri": "https://localhost:8080/"
        }
      },
      "outputs": [
        {
          "output_type": "execute_result",
          "data": {
            "text/plain": [
              "932"
            ]
          },
          "metadata": {},
          "execution_count": 7
        }
      ],
      "source": [
        "# 합성곱 층 파라미터\n",
        "count_parameters(model.features)"
      ]
    },
    {
      "cell_type": "code",
      "execution_count": 8,
      "id": "413ec8c3-e557-4304-9798-d227c0091adc",
      "metadata": {
        "id": "413ec8c3-e557-4304-9798-d227c0091adc",
        "outputId": "fec38686-34c6-4233-82c1-c3901c24d444",
        "colab": {
          "base_uri": "https://localhost:8080/"
        }
      },
      "outputs": [
        {
          "output_type": "execute_result",
          "data": {
            "text/plain": [
              "25994"
            ]
          },
          "metadata": {},
          "execution_count": 8
        }
      ],
      "source": [
        "# 완전 연결 층 파라미터\n",
        "count_parameters(model.classifier)"
      ]
    },
    {
      "cell_type": "code",
      "execution_count": 9,
      "id": "5c6bbda1-16a5-4e04-b0f0-6cb65e550824",
      "metadata": {
        "id": "5c6bbda1-16a5-4e04-b0f0-6cb65e550824",
        "outputId": "56576208-91eb-427f-b6a3-67a6cdadcc68",
        "colab": {
          "base_uri": "https://localhost:8080/"
        }
      },
      "outputs": [
        {
          "output_type": "execute_result",
          "data": {
            "text/plain": [
              "26926"
            ]
          },
          "metadata": {},
          "execution_count": 9
        }
      ],
      "source": [
        "# 총 파라미터\n",
        "count_parameters(model)"
      ]
    },
    {
      "cell_type": "markdown",
      "id": "417c1976-4c5b-49bd-954f-b62819c9be64",
      "metadata": {
        "id": "417c1976-4c5b-49bd-954f-b62819c9be64"
      },
      "source": [
        "### 2 c) 메모리 사용량 계산하기"
      ]
    },
    {
      "cell_type": "code",
      "execution_count": 10,
      "id": "ac9ca70a-e239-4ecb-bacf-247ed08e5ce4",
      "metadata": {
        "id": "ac9ca70a-e239-4ecb-bacf-247ed08e5ce4",
        "outputId": "8ede99a4-02bb-49a9-f269-0a1e6aeb9d5f",
        "colab": {
          "base_uri": "https://localhost:8080/"
        }
      },
      "outputs": [
        {
          "output_type": "stream",
          "name": "stdout",
          "text": [
            " 0.11 Mb\n"
          ]
        }
      ],
      "source": [
        "import sys\n",
        "\n",
        "def calculate_size(model):\n",
        "    return sum(p.element_size()*p.numel() for p in model.parameters())\n",
        "\n",
        "size_in_bytes = calculate_size(model)\n",
        "size_in_megabytes = size_in_bytes * 1e-6\n",
        "\n",
        "print(f\"{size_in_megabytes: .2f} Mb\")"
      ]
    },
    {
      "cell_type": "markdown",
      "id": "f4c99a55-0b72-4247-8d1b-d06ea4726b32",
      "metadata": {
        "id": "f4c99a55-0b72-4247-8d1b-d06ea4726b32"
      },
      "source": [
        "### 2 d) torchinfo 라이브러리 사용하기"
      ]
    },
    {
      "cell_type": "code",
      "execution_count": 12,
      "id": "2967e0b4-692e-4858-a8e3-3586b1744481",
      "metadata": {
        "id": "2967e0b4-692e-4858-a8e3-3586b1744481",
        "outputId": "823d8951-558a-4108-dd53-39c37d63e472",
        "colab": {
          "base_uri": "https://localhost:8080/"
        }
      },
      "outputs": [
        {
          "output_type": "stream",
          "name": "stdout",
          "text": [
            "Collecting torchinfo\n",
            "  Downloading torchinfo-1.8.0-py3-none-any.whl.metadata (21 kB)\n",
            "Downloading torchinfo-1.8.0-py3-none-any.whl (23 kB)\n",
            "Installing collected packages: torchinfo\n",
            "Successfully installed torchinfo-1.8.0\n",
            "Torchinfo 버전: 1.8.0\n"
          ]
        },
        {
          "output_type": "execute_result",
          "data": {
            "text/plain": [
              "==========================================================================================\n",
              "Layer (type:depth-idx)                   Output Shape              Param #\n",
              "==========================================================================================\n",
              "PyTorchCNN                               [16, 10]                  --\n",
              "├─Sequential: 1-1                        [16, 12, 4, 4]            --\n",
              "│    └─Conv2d: 2-1                       [16, 5, 28, 28]           380\n",
              "│    └─ReLU: 2-2                         [16, 5, 28, 28]           --\n",
              "│    └─MaxPool2d: 2-3                    [16, 5, 12, 12]           --\n",
              "│    └─Conv2d: 2-4                       [16, 12, 10, 10]          552\n",
              "│    └─ReLU: 2-5                         [16, 12, 10, 10]          --\n",
              "│    └─AvgPool2d: 2-6                    [16, 12, 4, 4]            --\n",
              "│    └─ReLU: 2-7                         [16, 12, 4, 4]            --\n",
              "├─Sequential: 1-2                        [16, 10]                  --\n",
              "│    └─Flatten: 2-8                      [16, 192]                 --\n",
              "│    └─Linear: 2-9                       [16, 128]                 24,704\n",
              "│    └─ReLU: 2-10                        [16, 128]                 --\n",
              "│    └─Linear: 2-11                      [16, 10]                  1,290\n",
              "==========================================================================================\n",
              "Total params: 26,926\n",
              "Trainable params: 26,926\n",
              "Non-trainable params: 0\n",
              "Total mult-adds (M): 6.07\n",
              "==========================================================================================\n",
              "Input size (MB): 0.20\n",
              "Forward/backward pass size (MB): 0.67\n",
              "Params size (MB): 0.11\n",
              "Estimated Total Size (MB): 0.98\n",
              "=========================================================================================="
            ]
          },
          "metadata": {},
          "execution_count": 12
        }
      ],
      "source": [
        "# using https://github.com/TylerYep/torchinfo\n",
        "!pip install torchinfo\n",
        "\n",
        "import torchinfo\n",
        "\n",
        "print(f\"Torchinfo 버전: {torchinfo.__version__}\")\n",
        "\n",
        "batch_size = 16\n",
        "torchinfo.summary(model, input_size=(batch_size, 3, 32, 32))"
      ]
    },
    {
      "cell_type": "markdown",
      "id": "4cedef9f-1d7a-4edf-854c-75cdb967f55e",
      "metadata": {
        "id": "4cedef9f-1d7a-4edf-854c-75cdb967f55e"
      },
      "source": [
        "## 3) ADAM 옵티마이저"
      ]
    },
    {
      "cell_type": "code",
      "execution_count": 13,
      "id": "0a967f58-2808-4c66-b6dc-1493c50c263c",
      "metadata": {
        "id": "0a967f58-2808-4c66-b6dc-1493c50c263c"
      },
      "outputs": [],
      "source": [
        "optimizer = torch.optim.Adam(model.parameters())"
      ]
    },
    {
      "cell_type": "code",
      "execution_count": 14,
      "id": "0b1af818-0275-488d-a08f-c6d6a5a267ed",
      "metadata": {
        "id": "0b1af818-0275-488d-a08f-c6d6a5a267ed",
        "outputId": "f1a60755-f877-4200-a6dc-0b0e3455980d",
        "colab": {
          "base_uri": "https://localhost:8080/"
        }
      },
      "outputs": [
        {
          "output_type": "execute_result",
          "data": {
            "text/plain": [
              "<function list.count(value, /)>"
            ]
          },
          "metadata": {},
          "execution_count": 14
        }
      ],
      "source": [
        "optimizer.param_groups.count"
      ]
    },
    {
      "cell_type": "code",
      "execution_count": 15,
      "id": "538c2a18-89f9-422c-80d5-7afe9abf95c9",
      "metadata": {
        "id": "538c2a18-89f9-422c-80d5-7afe9abf95c9",
        "outputId": "62102cf5-7f5b-439a-8c12-d23175d15e2f",
        "colab": {
          "base_uri": "https://localhost:8080/"
        }
      },
      "outputs": [
        {
          "output_type": "execute_result",
          "data": {
            "text/plain": [
              "26926"
            ]
          },
          "metadata": {},
          "execution_count": 15
        }
      ],
      "source": [
        "sum(p.numel() for p in optimizer.param_groups[0]['params'])"
      ]
    },
    {
      "cell_type": "markdown",
      "id": "c910ddaf-ceb9-4e0c-830b-c69c12a87b61",
      "metadata": {
        "id": "c910ddaf-ceb9-4e0c-830b-c69c12a87b61"
      },
      "source": [
        "## 4) 배치 정규화"
      ]
    },
    {
      "cell_type": "code",
      "execution_count": 16,
      "id": "8ff1530f-df95-4201-9cb3-b1392752590c",
      "metadata": {
        "id": "8ff1530f-df95-4201-9cb3-b1392752590c"
      },
      "outputs": [],
      "source": [
        "class PyTorchCNN(torch.nn.Module):\n",
        "    def __init__(self, num_classes):\n",
        "        super().__init__()\n",
        "\n",
        "        self.num_classes = num_classes\n",
        "        self.features = torch.nn.Sequential(\n",
        "            torch.nn.Conv2d(3, 5, kernel_size=5, stride=1),\n",
        "            torch.nn.BatchNorm2d(5),  # NEW!\n",
        "            torch.nn.ReLU(),\n",
        "            torch.nn.MaxPool2d(kernel_size=5, stride=2),\n",
        "            torch.nn.Conv2d(5, 12, kernel_size=3, stride=1),\n",
        "            torch.nn.BatchNorm2d(12),  # NEW!\n",
        "            torch.nn.ReLU(),\n",
        "            torch.nn.AvgPool2d(kernel_size=3, stride=2),\n",
        "            torch.nn.ReLU(),\n",
        "        )\n",
        "\n",
        "        self.classifier = torch.nn.Sequential(\n",
        "            torch.nn.Flatten(),\n",
        "            torch.nn.Linear(192, 128),\n",
        "            torch.nn.BatchNorm1d(128),  # NEW!\n",
        "            torch.nn.ReLU(),\n",
        "            torch.nn.Linear(128, num_classes),\n",
        "        )\n",
        "\n",
        "    def forward(self, x):\n",
        "        x = self.features(x)\n",
        "        x = self.classifier(x)\n",
        "        return x"
      ]
    },
    {
      "cell_type": "code",
      "execution_count": 17,
      "id": "5561e44b-0d3d-4a19-ac74-f5b033b6bdb1",
      "metadata": {
        "id": "5561e44b-0d3d-4a19-ac74-f5b033b6bdb1",
        "outputId": "d232c1d4-a3c2-44e6-fb8e-9a0559727b85",
        "colab": {
          "base_uri": "https://localhost:8080/"
        }
      },
      "outputs": [
        {
          "output_type": "execute_result",
          "data": {
            "text/plain": [
              "==========================================================================================\n",
              "Layer (type:depth-idx)                   Output Shape              Param #\n",
              "==========================================================================================\n",
              "PyTorchCNN                               [16, 10]                  --\n",
              "├─Sequential: 1-1                        [16, 12, 4, 4]            --\n",
              "│    └─Conv2d: 2-1                       [16, 5, 28, 28]           380\n",
              "│    └─BatchNorm2d: 2-2                  [16, 5, 28, 28]           10\n",
              "│    └─ReLU: 2-3                         [16, 5, 28, 28]           --\n",
              "│    └─MaxPool2d: 2-4                    [16, 5, 12, 12]           --\n",
              "│    └─Conv2d: 2-5                       [16, 12, 10, 10]          552\n",
              "│    └─BatchNorm2d: 2-6                  [16, 12, 10, 10]          24\n",
              "│    └─ReLU: 2-7                         [16, 12, 10, 10]          --\n",
              "│    └─AvgPool2d: 2-8                    [16, 12, 4, 4]            --\n",
              "│    └─ReLU: 2-9                         [16, 12, 4, 4]            --\n",
              "├─Sequential: 1-2                        [16, 10]                  --\n",
              "│    └─Flatten: 2-10                     [16, 192]                 --\n",
              "│    └─Linear: 2-11                      [16, 128]                 24,704\n",
              "│    └─BatchNorm1d: 2-12                 [16, 128]                 256\n",
              "│    └─ReLU: 2-13                        [16, 128]                 --\n",
              "│    └─Linear: 2-14                      [16, 10]                  1,290\n",
              "==========================================================================================\n",
              "Total params: 27,216\n",
              "Trainable params: 27,216\n",
              "Non-trainable params: 0\n",
              "Total mult-adds (M): 6.07\n",
              "==========================================================================================\n",
              "Input size (MB): 0.20\n",
              "Forward/backward pass size (MB): 1.34\n",
              "Params size (MB): 0.11\n",
              "Estimated Total Size (MB): 1.65\n",
              "=========================================================================================="
            ]
          },
          "metadata": {},
          "execution_count": 17
        }
      ],
      "source": [
        "model = PyTorchCNN(10)\n",
        "\n",
        "torchinfo.summary(model, input_size=(batch_size, 3, 32, 32))"
      ]
    }
  ],
  "metadata": {
    "kernelspec": {
      "display_name": "Python 3 (ipykernel)",
      "language": "python",
      "name": "python3"
    },
    "language_info": {
      "codemirror_mode": {
        "name": "ipython",
        "version": 3
      },
      "file_extension": ".py",
      "mimetype": "text/x-python",
      "name": "python",
      "nbconvert_exporter": "python",
      "pygments_lexer": "ipython3",
      "version": "3.11.4"
    },
    "colab": {
      "provenance": [],
      "include_colab_link": true
    }
  },
  "nbformat": 4,
  "nbformat_minor": 5
}