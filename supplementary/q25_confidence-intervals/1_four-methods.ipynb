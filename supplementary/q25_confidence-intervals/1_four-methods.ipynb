{
  "cells": [
    {
      "cell_type": "markdown",
      "metadata": {
        "id": "X9twrGuBvZOA"
      },
      "source": [
        "# 신뢰 구간 구성하기"
      ]
    },
    {
      "cell_type": "code",
      "execution_count": null,
      "metadata": {
        "id": "VAUsWM-kvZOC",
        "outputId": "95740917-965a-4bdd-97c0-31f8635277d7"
      },
      "outputs": [
        {
          "name": "stdout",
          "output_type": "stream",
          "text": [
            "Author: Sebastian Raschka\n",
            "\n",
            "Python implementation: CPython\n",
            "Python version       : 3.10.6\n",
            "IPython version      : 8.12.0\n",
            "\n",
            "numpy     : 1.23.5\n",
            "mlxtend   : 0.22.0\n",
            "matplotlib: 3.7.1\n",
            "sklearn   : 1.2.2\n",
            "\n"
          ]
        }
      ],
      "source": [
        "!pip install watermark\n",
        "\n",
        "%load_ext watermark\n",
        "%watermark -a 'Sebastian Raschka' -v -p numpy,mlxtend,matplotlib,sklearn"
      ]
    },
    {
      "cell_type": "code",
      "execution_count": null,
      "metadata": {
        "id": "89CyU5F7vZOD"
      },
      "outputs": [],
      "source": [
        "%matplotlib inline\n",
        "import matplotlib.pyplot as plt\n",
        "import numpy as np"
      ]
    },
    {
      "cell_type": "markdown",
      "metadata": {
        "id": "72nz2wObvZOE"
      },
      "source": [
        "## 실습을 위해 데이터셋과 모델 정의하기"
      ]
    },
    {
      "cell_type": "code",
      "execution_count": null,
      "metadata": {
        "id": "Iz8YjttMvZOE"
      },
      "outputs": [],
      "source": [
        "from sklearn.datasets import load_digits\n",
        "from sklearn.model_selection import train_test_split\n",
        "from sklearn.neural_network import MLPClassifier\n",
        "\n",
        "digits = load_digits()\n",
        "\n",
        "X = digits.data / 16. - 0.5 # 데이터셋을 -0.5 ~ 0.5 범위로 정규화합니다\n",
        "y = digits.target\n",
        "\n",
        "X_train, X_test, y_train, y_test = train_test_split(\n",
        "    X, y, test_size=0.15, random_state=123, stratify=y\n",
        ")\n",
        "\n",
        "clf = MLPClassifier(\n",
        "    hidden_layer_sizes=(10,),\n",
        "    activation=\"relu\",\n",
        "    learning_rate_init=0.01,\n",
        "    random_state=123,\n",
        "    solver=\"adam\",\n",
        "    max_iter=500\n",
        ")"
      ]
    },
    {
      "cell_type": "markdown",
      "metadata": {
        "id": "ADHN6YbEvZOE"
      },
      "source": [
        "## 1) 테스트 세트 기반의 정규 근사 구간"
      ]
    },
    {
      "cell_type": "markdown",
      "metadata": {
        "id": "oGzgViszvZOF"
      },
      "source": [
        "- 통계 교과서에 실린 $z$ 표를 찾는 대신 `scipy.stats.norm.ppf`를 사용해 z-값을 구합니다."
      ]
    },
    {
      "cell_type": "code",
      "execution_count": null,
      "metadata": {
        "id": "ahmiKrZEvZOF",
        "outputId": "64cbc77f-cc2d-4ae2-9aa3-ab1fcf32e4dc"
      },
      "outputs": [
        {
          "name": "stdout",
          "output_type": "stream",
          "text": [
            "1.959963984540054\n"
          ]
        }
      ],
      "source": [
        "import scipy.stats\n",
        "\n",
        "confidence = 0.95  # 원하는 신뢰 구간으로 바꾸세요\n",
        "z_value = scipy.stats.norm.ppf((1 + confidence) / 2.0)\n",
        "print(z_value)"
      ]
    },
    {
      "cell_type": "markdown",
      "metadata": {
        "id": "lX5ucYakvZOF"
      },
      "source": [
        "- Next, let's compute the test accuracy of the classifier, and plug in the values into the formula above; the Python code for this is as follows:"
      ]
    },
    {
      "cell_type": "code",
      "execution_count": null,
      "metadata": {
        "id": "P2M4M85SvZOG",
        "outputId": "8849dc3d-56fa-4141-fc0f-f08f0c993b30"
      },
      "outputs": [
        {
          "name": "stdout",
          "output_type": "stream",
          "text": [
            "0.9601953017724117 0.9953602537831437\n"
          ]
        }
      ],
      "source": [
        "import numpy as np\n",
        "\n",
        "clf.fit(X_train, y_train)\n",
        "\n",
        "acc_test = clf.score(X_test, y_test)\n",
        "ci_length = z_value * np.sqrt((acc_test * (1 - acc_test)) / y_test.shape[0])\n",
        "\n",
        "ci_lower = acc_test - ci_length\n",
        "ci_upper = acc_test + ci_length\n",
        "\n",
        "print(ci_lower, ci_upper)"
      ]
    },
    {
      "cell_type": "markdown",
      "metadata": {
        "id": "zM-7G4ONvZOG"
      },
      "source": [
        "- Let's visualize the confidence interval using the following code:"
      ]
    },
    {
      "cell_type": "code",
      "execution_count": null,
      "metadata": {
        "id": "4bk__TO4vZOG",
        "outputId": "06a080a4-f076-428b-9dd1-d965d27dab0b"
      },
      "outputs": [
        {
          "data": {
            "image/png": "[encoded data removed]",
            "text/plain": [
              "<Figure size 700x300 with 1 Axes>"
            ]
          },
          "metadata": {},
          "output_type": "display_data"
        }
      ],
      "source": [
        "%matplotlib inline\n",
        "import matplotlib.pyplot as plt\n",
        "\n",
        "fig, ax = plt.subplots(figsize=(7, 3))\n",
        "\n",
        "ax.errorbar(acc_test, 0, xerr=ci_length, fmt=\"o\")\n",
        "\n",
        "ax.set_xlim([0.8, 1.0])\n",
        "\n",
        "ax.set_yticks(np.arange(1))\n",
        "ax.set_yticklabels([\"Normal approximation interval\"])\n",
        "ax.set_xlabel(\"Prediction accuracy\")\n",
        "\n",
        "plt.tight_layout()\n",
        "plt.grid(axis=\"x\")\n",
        "plt.show()"
      ]
    },
    {
      "cell_type": "markdown",
      "metadata": {
        "id": "9zNltQ-8vZOG"
      },
      "source": [
        "- Lastly, let's store our confidence interval in a Python dictionary so that we can retrieve it later when we compare it to other confidence intervals:"
      ]
    },
    {
      "cell_type": "code",
      "execution_count": null,
      "metadata": {
        "id": "rFIhOSKavZOG"
      },
      "outputs": [],
      "source": [
        "results = {\n",
        "    \"Method 1: Normal approximation\": {\n",
        "        \"Test accuracy\": acc_test,\n",
        "        \"Lower 95% CI\": ci_lower,\n",
        "        \"Upper 95% CI\": ci_upper,\n",
        "    }\n",
        "}"
      ]
    },
    {
      "cell_type": "markdown",
      "metadata": {
        "id": "H7R309g3vZOG"
      },
      "source": [
        "## 2) Bootstrapping Training Sets"
      ]
    },
    {
      "cell_type": "code",
      "execution_count": null,
      "metadata": {
        "id": "1COzuNRgvZOG",
        "outputId": "07fb8531-602f-4cc6-c831-803de0eafd1c"
      },
      "outputs": [
        {
          "data": {
            "text/plain": [
              "0.9553670076911844"
            ]
          },
          "execution_count": 8,
          "metadata": {},
          "output_type": "execute_result"
        }
      ],
      "source": [
        "import numpy as np\n",
        "\n",
        "rng = np.random.RandomState(seed=12345)\n",
        "idx = np.arange(y_train.shape[0])\n",
        "\n",
        "bootstrap_train_accuracies = []\n",
        "bootstrap_rounds = 200\n",
        "\n",
        "\n",
        "for i in range(bootstrap_rounds):\n",
        "\n",
        "    train_idx = rng.choice(idx, size=idx.shape[0], replace=True)\n",
        "    valid_idx = np.setdiff1d(idx, train_idx, assume_unique=False)\n",
        "\n",
        "    boot_train_X, boot_train_y = X_train[train_idx], y_train[train_idx]\n",
        "    boot_valid_X, boot_valid_y = X_train[valid_idx], y_train[valid_idx]\n",
        "\n",
        "    clf.fit(boot_train_X, boot_train_y)\n",
        "    acc = clf.score(boot_valid_X, boot_valid_y)\n",
        "    bootstrap_train_accuracies.append(acc)\n",
        "\n",
        "bootstrap_train_mean = np.mean(bootstrap_train_accuracies)\n",
        "bootstrap_train_mean"
      ]
    },
    {
      "cell_type": "markdown",
      "metadata": {
        "id": "hecih0uZvZOH"
      },
      "source": [
        "- We can visualize the test accuracies from bootstrapping ($ \\text{ACC}_{\\text{boot}, j}$) along with their sample mean ($\\text{ACC}_{\\text{bootavg}}$) in a historgram:"
      ]
    },
    {
      "cell_type": "code",
      "execution_count": null,
      "metadata": {
        "id": "TGwa5F1UvZOH",
        "outputId": "73277601-7aeb-469d-c8af-7305903290c1"
      },
      "outputs": [
        {
          "data": {
            "image/png": "[encoded data removed]",
            "text/plain": [
              "<Figure size 800x400 with 1 Axes>"
            ]
          },
          "metadata": {},
          "output_type": "display_data"
        }
      ],
      "source": [
        "fig, ax = plt.subplots(figsize=(8, 4))\n",
        "\n",
        "ax.vlines(bootstrap_train_mean, [0], 80, lw=2.5, linestyle=\"-\", label=\"Mean\")\n",
        "\n",
        "ax.hist(\n",
        "    bootstrap_train_accuracies, bins=7, color=\"#0080ff\", edgecolor=\"none\", alpha=0.3\n",
        ")\n",
        "plt.legend(loc=\"upper left\")\n",
        "\n",
        "plt.xlim([0.9, 1.0])\n",
        "\n",
        "plt.xlabel('Accuracy')\n",
        "plt.ylabel('Count')\n",
        "\n",
        "plt.tight_layout()\n",
        "plt.grid()\n",
        "plt.show()"
      ]
    },
    {
      "cell_type": "markdown",
      "metadata": {
        "id": "waLcyLOMvZOH"
      },
      "source": [
        "#### Using the Percentile Method"
      ]
    },
    {
      "cell_type": "code",
      "execution_count": null,
      "metadata": {
        "id": "mk4OEJx5vZOH",
        "outputId": "58c5f5f0-e330-4004-ace7-a36b8dafb3ba"
      },
      "outputs": [
        {
          "name": "stdout",
          "output_type": "stream",
          "text": [
            "0.9403296497471437 0.970772977022977\n"
          ]
        }
      ],
      "source": [
        "ci_lower = np.percentile(bootstrap_train_accuracies, 2.5)\n",
        "ci_upper = np.percentile(bootstrap_train_accuracies, 97.5)\n",
        "\n",
        "print(ci_lower, ci_upper)"
      ]
    },
    {
      "cell_type": "markdown",
      "metadata": {
        "id": "haS6RFRmvZOH"
      },
      "source": [
        "- Let's have a look how it looks like in the context of our"
      ]
    },
    {
      "cell_type": "code",
      "execution_count": null,
      "metadata": {
        "id": "2mVSMtaSvZOH",
        "outputId": "a0a246ef-fbdc-4d45-cdcf-fd05521be209"
      },
      "outputs": [
        {
          "data": {
            "image/png": "[encoded data removed]",
            "text/plain": [
              "<Figure size 800x400 with 1 Axes>"
            ]
          },
          "metadata": {},
          "output_type": "display_data"
        }
      ],
      "source": [
        "fig, ax = plt.subplots(figsize=(8, 4))\n",
        "ax.vlines(bootstrap_train_mean, [0], 80, lw=2.5, linestyle=\"-\", label=\"Mean\")\n",
        "\n",
        "ax.vlines(ci_lower, [0], 15, lw=2.5, linestyle=\"dotted\", label=\"95% CI\", color=\"C2\")\n",
        "ax.vlines(ci_upper, [0], 15, lw=2.5, linestyle=\"dotted\", color=\"C2\")\n",
        "\n",
        "ax.hist(\n",
        "    bootstrap_train_accuracies, bins=7, color=\"#0080ff\", edgecolor=\"none\", alpha=0.3\n",
        ")\n",
        "plt.legend(loc=\"upper left\")\n",
        "\n",
        "plt.xlim([0.9, 1.0])\n",
        "plt.xlabel('Accuracy')\n",
        "plt.ylabel('Count')\n",
        "\n",
        "plt.tight_layout()\n",
        "plt.grid()\n",
        "\n",
        "plt.show()"
      ]
    },
    {
      "cell_type": "code",
      "execution_count": null,
      "metadata": {
        "id": "mZ9LK1ppvZOH"
      },
      "outputs": [],
      "source": [
        "results[\"Method 2: Bootstrap, percentile\"] = {\n",
        "    \"Test accuracy\": bootstrap_train_mean,\n",
        "    \"Lower 95% CI\": ci_lower,\n",
        "    \"Upper 95% CI\": ci_upper,\n",
        "}"
      ]
    },
    {
      "cell_type": "markdown",
      "metadata": {
        "id": "V5SavYI1vZOI"
      },
      "source": [
        "## 3) Bootstrapping the Test Set Predictions"
      ]
    },
    {
      "cell_type": "code",
      "execution_count": null,
      "metadata": {
        "id": "qXuTVxIuvZOI",
        "outputId": "dd619e06-d082-4f65-fa7d-de0910609a40"
      },
      "outputs": [
        {
          "data": {
            "text/plain": [
              "0.9785555555555555"
            ]
          },
          "execution_count": 13,
          "metadata": {},
          "output_type": "execute_result"
        }
      ],
      "source": [
        "clf.fit(X_train, y_train)\n",
        "\n",
        "predictions_test = clf.predict(X_test)\n",
        "acc_test = np.mean(predictions_test == y_test)\n",
        "\n",
        "rng = np.random.RandomState(seed=12345)\n",
        "idx = np.arange(y_test.shape[0])\n",
        "\n",
        "test_accuracies = []\n",
        "\n",
        "for i in range(200):\n",
        "\n",
        "    pred_idx = rng.choice(idx, size=idx.shape[0], replace=True)\n",
        "    acc_test_boot = np.mean(predictions_test[pred_idx] == y_test[pred_idx])\n",
        "    test_accuracies.append(acc_test_boot)\n",
        "\n",
        "bootstrap_train_mean = np.mean(test_accuracies)\n",
        "bootstrap_train_mean"
      ]
    },
    {
      "cell_type": "markdown",
      "metadata": {
        "id": "wKFVIuCMvZOI"
      },
      "source": [
        "- We can then use the familiar percentile approach to get the confidence interval:"
      ]
    },
    {
      "cell_type": "code",
      "execution_count": null,
      "metadata": {
        "id": "SUuwzxFBvZOI",
        "outputId": "3e3d4361-cc53-4139-89bd-6e0c124a9f0b"
      },
      "outputs": [
        {
          "name": "stdout",
          "output_type": "stream",
          "text": [
            "0.9629629629629629 0.9925925925925926\n"
          ]
        }
      ],
      "source": [
        "ci_lower = np.percentile(test_accuracies, 2.5)\n",
        "ci_upper = np.percentile(test_accuracies, 97.5)\n",
        "\n",
        "print(ci_lower, ci_upper)"
      ]
    },
    {
      "cell_type": "code",
      "execution_count": null,
      "metadata": {
        "id": "l2DPFlCivZOI"
      },
      "outputs": [],
      "source": [
        "results[\"Method 3: Bootstrap test set\"] = {\n",
        "    \"Test accuracy\": bootstrap_train_mean,\n",
        "    \"Lower 95% CI\": ci_lower,\n",
        "    \"Upper 95% CI\": ci_upper,\n",
        "}"
      ]
    },
    {
      "cell_type": "markdown",
      "metadata": {
        "id": "ehmUkSE9vZOI"
      },
      "source": [
        "## 4) Confidence Intervals from Retraining Models with Different Random Seeds"
      ]
    },
    {
      "cell_type": "code",
      "execution_count": null,
      "metadata": {
        "id": "gT9F3grhvZOI",
        "outputId": "b6ec47b4-23e6-406a-f2bf-21a389aacc8d"
      },
      "outputs": [
        {
          "data": {
            "text/plain": [
              "0.9740740740740741"
            ]
          },
          "execution_count": 16,
          "metadata": {},
          "output_type": "execute_result"
        }
      ],
      "source": [
        "test_accuracies = []\n",
        "rounds = 5\n",
        "\n",
        "\n",
        "for i in range(rounds):\n",
        "\n",
        "    clf = MLPClassifier(\n",
        "        hidden_layer_sizes=(10,),\n",
        "        activation=\"relu\",\n",
        "        learning_rate_init=0.01,\n",
        "        random_state=i,  # only change random seed here\n",
        "        solver=\"adam\",\n",
        "        max_iter=500\n",
        ")\n",
        "\n",
        "    clf.fit(X_train, y_train)\n",
        "    acc = clf.score(X_test, y_test)\n",
        "    test_accuracies.append(acc)\n",
        "\n",
        "test_mean = np.mean(test_accuracies)\n",
        "test_mean"
      ]
    },
    {
      "cell_type": "code",
      "execution_count": null,
      "metadata": {
        "id": "VYMTV6GQvZOI",
        "outputId": "c8b8a9fe-9830-4b42-e2e0-b5e398cd5564"
      },
      "outputs": [
        {
          "name": "stdout",
          "output_type": "stream",
          "text": [
            "0.9668028031056387 0.9813453450425095\n"
          ]
        }
      ],
      "source": [
        "confidence = 0.95  # Change to your desired confidence level\n",
        "t_value = scipy.stats.t.ppf((1 + confidence) / 2.0, df=rounds - 1)\n",
        "\n",
        "sd = np.std(test_accuracies, ddof=1)\n",
        "se = sd / np.sqrt(rounds)\n",
        "\n",
        "ci_length = t_value * se\n",
        "\n",
        "ci_lower = test_mean - ci_length\n",
        "ci_upper = test_mean + ci_length\n",
        "\n",
        "print(ci_lower, ci_upper)"
      ]
    },
    {
      "cell_type": "code",
      "execution_count": null,
      "metadata": {
        "id": "LpCgcTrFvZOJ"
      },
      "outputs": [],
      "source": [
        "results[\"Method 4: Random seeds\"] = {\n",
        "    \"Test accuracy\": test_mean,\n",
        "    \"Lower 95% CI\": ci_lower,\n",
        "    \"Upper 95% CI\": ci_upper,\n",
        "}"
      ]
    },
    {
      "cell_type": "markdown",
      "metadata": {
        "id": "tIz2ElLIvZOJ"
      },
      "source": [
        "<br>\n",
        "<br>\n",
        "<br>"
      ]
    },
    {
      "cell_type": "markdown",
      "metadata": {
        "tags": [],
        "id": "we-RX76zvZOJ"
      },
      "source": [
        "## Comparing the Different Confidence Interval Methods"
      ]
    },
    {
      "cell_type": "code",
      "execution_count": null,
      "metadata": {
        "id": "Ycwug3-cvZOJ",
        "outputId": "e1e65514-3f6a-4237-a1c2-b549e8113dd1"
      },
      "outputs": [
        {
          "data": {
            "text/plain": [
              "dict_keys(['Method 1: Normal approximation', 'Method 2: Bootstrap, percentile', 'Method 3: Bootstrap test set', 'Method 4: Random seeds'])"
            ]
          },
          "execution_count": 19,
          "metadata": {},
          "output_type": "execute_result"
        }
      ],
      "source": [
        "results.keys()"
      ]
    },
    {
      "cell_type": "code",
      "execution_count": null,
      "metadata": {
        "id": "rs-JCSDHvZOJ",
        "outputId": "4bdf2061-0e49-4a56-8797-2a5be1c8135f"
      },
      "outputs": [
        {
          "data": {
            "image/png": "[encoded data removed]",
            "text/plain": [
              "<Figure size 700x300 with 1 Axes>"
            ]
          },
          "metadata": {},
          "output_type": "display_data"
        }
      ],
      "source": [
        "labels = list(results.keys())\n",
        "\n",
        "means = np.array([results[k][\"Test accuracy\"] for k in labels])\n",
        "lower_error = np.array([results[k][\"Lower 95% CI\"] for k in labels])\n",
        "upper_error = np.array([results[k][\"Upper 95% CI\"] for k in labels])\n",
        "\n",
        "asymmetric_error = [means - lower_error, upper_error - means]\n",
        "\n",
        "\n",
        "fig, ax = plt.subplots(figsize=(7, 3))\n",
        "ax.errorbar(means, np.arange(len(means)), xerr=asymmetric_error, fmt=\"o\")\n",
        "ax.set_xlim([0.75, 1.0])\n",
        "ax.set_yticks(np.arange(len(means)))\n",
        "ax.set_yticklabels(labels)\n",
        "ax.set_xlabel(\"Prediction accuracy\")\n",
        "ax.set_title(\"95% confidence intervals\")\n",
        "\n",
        "plt.grid()\n",
        "plt.tight_layout()\n",
        "plt.show()"
      ]
    }
  ],
  "metadata": {
    "kernelspec": {
      "display_name": "Python 3 (ipykernel)",
      "language": "python",
      "name": "python3"
    },
    "language_info": {
      "codemirror_mode": {
        "name": "ipython",
        "version": 3
      },
      "file_extension": ".py",
      "mimetype": "text/x-python",
      "name": "python",
      "nbconvert_exporter": "python",
      "pygments_lexer": "ipython3",
      "version": "3.11.4"
    },
    "colab": {
      "provenance": []
    }
  },
  "nbformat": 4,
  "nbformat_minor": 0
}