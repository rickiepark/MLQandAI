{
  "cells": [
    {
      "cell_type": "markdown",
      "metadata": {
        "id": "view-in-github",
        "colab_type": "text"
      },
      "source": [
        "<a href=\"https://colab.research.google.com/github/rickiepark/MLQandAI/blob/main/supplementary/q10-random-sources/random-weights.ipynb\" target=\"_parent\"><img src=\"https://colab.research.google.com/assets/colab-badge.svg\" alt=\"Open In Colab\"/></a>"
      ]
    },
    {
      "cell_type": "markdown",
      "id": "7b759a05-9483-4df8-8787-c01a8ddf8f4b",
      "metadata": {
        "id": "7b759a05-9483-4df8-8787-c01a8ddf8f4b"
      },
      "source": [
        "# 랜덤한 가중치 초기화"
      ]
    },
    {
      "cell_type": "markdown",
      "id": "98b6b513-4095-44e1-9f7d-65a298d01c02",
      "metadata": {
        "id": "98b6b513-4095-44e1-9f7d-65a298d01c02"
      },
      "source": [
        "### 랜덤 시드 사용하지 않는 경우"
      ]
    },
    {
      "cell_type": "code",
      "execution_count": 1,
      "id": "6134dabb-ecae-47cc-9a51-0a08d3acb520",
      "metadata": {
        "id": "6134dabb-ecae-47cc-9a51-0a08d3acb520",
        "outputId": "88a8116b-474e-4600-eff6-87d60f552263",
        "colab": {
          "base_uri": "https://localhost:8080/"
        }
      },
      "outputs": [
        {
          "output_type": "stream",
          "name": "stdout",
          "text": [
            "Parameter containing:\n",
            "tensor([[-0.1558,  0.6908],\n",
            "        [-0.6809, -0.0069],\n",
            "        [-0.0577, -0.2206]], requires_grad=True)\n"
          ]
        }
      ],
      "source": [
        "import torch\n",
        "\n",
        "\n",
        "layer = torch.nn.Linear(2, 3)\n",
        "print(layer.weight)"
      ]
    },
    {
      "cell_type": "code",
      "execution_count": 2,
      "id": "bd12f614-c46a-4c43-a22c-7e45088dcd6a",
      "metadata": {
        "id": "bd12f614-c46a-4c43-a22c-7e45088dcd6a",
        "outputId": "84f8edd5-f711-4831-d728-09baf5410fc0",
        "colab": {
          "base_uri": "https://localhost:8080/"
        }
      },
      "outputs": [
        {
          "output_type": "stream",
          "name": "stdout",
          "text": [
            "Parameter containing:\n",
            "tensor([[ 0.6107, -0.0511],\n",
            "        [-0.4191,  0.5215],\n",
            "        [-0.1921, -0.3824]], requires_grad=True)\n"
          ]
        }
      ],
      "source": [
        "layer = torch.nn.Linear(2, 3)\n",
        "print(layer.weight)"
      ]
    },
    {
      "cell_type": "markdown",
      "id": "a5a897b2-f3b7-48e9-a23a-adb7b016fd83",
      "metadata": {
        "id": "a5a897b2-f3b7-48e9-a23a-adb7b016fd83"
      },
      "source": [
        "### 랜덤 시드 사용하는 경우"
      ]
    },
    {
      "cell_type": "code",
      "execution_count": 3,
      "id": "5c4388d8-f30c-41d8-90ff-1e88547beb87",
      "metadata": {
        "id": "5c4388d8-f30c-41d8-90ff-1e88547beb87",
        "outputId": "25960738-aaba-4f18-a7f9-4a0e620e16cd",
        "colab": {
          "base_uri": "https://localhost:8080/"
        }
      },
      "outputs": [
        {
          "output_type": "stream",
          "name": "stdout",
          "text": [
            "Parameter containing:\n",
            "tensor([[-0.2883,  0.0234],\n",
            "        [-0.3512,  0.2667],\n",
            "        [-0.6025,  0.5183]], requires_grad=True)\n"
          ]
        }
      ],
      "source": [
        "torch.manual_seed(123)\n",
        "\n",
        "layer = torch.nn.Linear(2, 3)\n",
        "print(layer.weight)"
      ]
    },
    {
      "cell_type": "code",
      "execution_count": 4,
      "id": "26f89be0-1adf-4c3d-b3c3-a8316e7f50d9",
      "metadata": {
        "id": "26f89be0-1adf-4c3d-b3c3-a8316e7f50d9",
        "outputId": "edd8b3b4-a441-47d4-9fef-8c77755b1d18",
        "colab": {
          "base_uri": "https://localhost:8080/"
        }
      },
      "outputs": [
        {
          "output_type": "stream",
          "name": "stdout",
          "text": [
            "Parameter containing:\n",
            "tensor([[-0.2883,  0.0234],\n",
            "        [-0.3512,  0.2667],\n",
            "        [-0.6025,  0.5183]], requires_grad=True)\n"
          ]
        }
      ],
      "source": [
        "torch.manual_seed(123)\n",
        "\n",
        "layer = torch.nn.Linear(2, 3)\n",
        "print(layer.weight)"
      ]
    }
  ],
  "metadata": {
    "kernelspec": {
      "display_name": "Python 3 (ipykernel)",
      "language": "python",
      "name": "python3"
    },
    "language_info": {
      "codemirror_mode": {
        "name": "ipython",
        "version": 3
      },
      "file_extension": ".py",
      "mimetype": "text/x-python",
      "name": "python",
      "nbconvert_exporter": "python",
      "pygments_lexer": "ipython3",
      "version": "3.11.4"
    },
    "colab": {
      "provenance": [],
      "include_colab_link": true
    }
  },
  "nbformat": 4,
  "nbformat_minor": 5
}