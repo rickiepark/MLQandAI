{
  "cells": [
    {
      "cell_type": "markdown",
      "metadata": {
        "id": "view-in-github",
        "colab_type": "text"
      },
      "source": [
        "<a href=\"https://colab.research.google.com/github/rickiepark/MLQandAI/blob/main/supplementary/q10-random-sources/dropout.ipynb\" target=\"_parent\"><img src=\"https://colab.research.google.com/assets/colab-badge.svg\" alt=\"Open In Colab\"/></a>"
      ]
    },
    {
      "cell_type": "markdown",
      "id": "f08ed48d-0a05-4b3e-bb52-d63600ed6772",
      "metadata": {
        "id": "f08ed48d-0a05-4b3e-bb52-d63600ed6772"
      },
      "source": [
        "# 드롭아웃"
      ]
    },
    {
      "cell_type": "code",
      "execution_count": 1,
      "id": "202c9deb-f13f-4ca1-92fc-1922282cf0e8",
      "metadata": {
        "id": "202c9deb-f13f-4ca1-92fc-1922282cf0e8"
      },
      "outputs": [],
      "source": [
        "import torch\n",
        "\n",
        "\n",
        "class MLP(torch.nn.Module):\n",
        "    def __init__(self, num_features, num_classes):\n",
        "        super().__init__()\n",
        "\n",
        "        self.all_layers = torch.nn.Sequential(\n",
        "            torch.nn.Linear(num_features, 10),\n",
        "            torch.nn.ReLU(),\n",
        "            torch.nn.Dropout(0.5),\n",
        "\n",
        "            # output layer\n",
        "            torch.nn.Linear(10, num_classes),\n",
        "        )\n",
        "\n",
        "    def forward(self, x):\n",
        "        logits = self.all_layers(x)\n",
        "        return logits"
      ]
    },
    {
      "cell_type": "code",
      "execution_count": 2,
      "id": "1b3c1d6c-e39c-4b56-9e69-7bd55b8d97ab",
      "metadata": {
        "id": "1b3c1d6c-e39c-4b56-9e69-7bd55b8d97ab"
      },
      "outputs": [],
      "source": [
        "torch.manual_seed(123)\n",
        "\n",
        "model = MLP(num_features=5, num_classes=2)"
      ]
    },
    {
      "cell_type": "markdown",
      "id": "08f6a192-5212-4d21-9ed5-b83c81c1b609",
      "metadata": {
        "id": "08f6a192-5212-4d21-9ed5-b83c81c1b609"
      },
      "source": [
        "## 훈련할 때 드롭아웃 적용하기"
      ]
    },
    {
      "cell_type": "code",
      "execution_count": 3,
      "id": "d4f54a58-dd64-4cba-9375-7d4698292002",
      "metadata": {
        "id": "d4f54a58-dd64-4cba-9375-7d4698292002"
      },
      "outputs": [],
      "source": [
        "x = torch.tensor([1., 0.3, 2.4, -1.1, -0.8])"
      ]
    },
    {
      "cell_type": "code",
      "execution_count": 4,
      "id": "f104b59c-8f36-43d3-b3e0-3dcd4858c31a",
      "metadata": {
        "id": "f104b59c-8f36-43d3-b3e0-3dcd4858c31a",
        "outputId": "2ce2ac0e-9bf4-434b-efa8-6f49f3bfcb3c",
        "colab": {
          "base_uri": "https://localhost:8080/"
        }
      },
      "outputs": [
        {
          "output_type": "execute_result",
          "data": {
            "text/plain": [
              "tensor([ 0.1405, -0.1217], grad_fn=<ViewBackward0>)"
            ]
          },
          "metadata": {},
          "execution_count": 4
        }
      ],
      "source": [
        "model(x)"
      ]
    },
    {
      "cell_type": "code",
      "execution_count": 5,
      "id": "e8dea15d-e784-4492-97a9-329d96a4dd1d",
      "metadata": {
        "id": "e8dea15d-e784-4492-97a9-329d96a4dd1d",
        "outputId": "5050d571-ec32-4805-f9ab-3a38f0676a4b",
        "colab": {
          "base_uri": "https://localhost:8080/"
        }
      },
      "outputs": [
        {
          "output_type": "execute_result",
          "data": {
            "text/plain": [
              "tensor([ 0.0446, -0.0222], grad_fn=<ViewBackward0>)"
            ]
          },
          "metadata": {},
          "execution_count": 5
        }
      ],
      "source": [
        "model(x)"
      ]
    },
    {
      "cell_type": "markdown",
      "id": "0fa5b0d3-b63c-4361-9176-3a3189caa540",
      "metadata": {
        "id": "0fa5b0d3-b63c-4361-9176-3a3189caa540"
      },
      "source": [
        "## 추론할 때 드롭아웃 제외하기"
      ]
    },
    {
      "cell_type": "code",
      "execution_count": 6,
      "id": "22705321-a2b0-4a38-adc9-a3c02a714ad9",
      "metadata": {
        "id": "22705321-a2b0-4a38-adc9-a3c02a714ad9"
      },
      "outputs": [],
      "source": [
        "model.eval();"
      ]
    },
    {
      "cell_type": "code",
      "execution_count": 7,
      "id": "a289774a-b3f6-457b-9ae6-341e6a8081ff",
      "metadata": {
        "id": "a289774a-b3f6-457b-9ae6-341e6a8081ff",
        "outputId": "c1c49c8b-79c3-4346-ba77-3f7334d124ab",
        "colab": {
          "base_uri": "https://localhost:8080/"
        }
      },
      "outputs": [
        {
          "output_type": "execute_result",
          "data": {
            "text/plain": [
              "tensor([-0.0458, -0.1777], grad_fn=<ViewBackward0>)"
            ]
          },
          "metadata": {},
          "execution_count": 7
        }
      ],
      "source": [
        "model(x)"
      ]
    },
    {
      "cell_type": "code",
      "execution_count": 8,
      "id": "71adeb90-b0d5-491b-98d2-65801d3e650c",
      "metadata": {
        "id": "71adeb90-b0d5-491b-98d2-65801d3e650c",
        "outputId": "03aed0d3-980a-45f8-ce7c-bc620d26c462",
        "colab": {
          "base_uri": "https://localhost:8080/"
        }
      },
      "outputs": [
        {
          "output_type": "execute_result",
          "data": {
            "text/plain": [
              "tensor([-0.0458, -0.1777], grad_fn=<ViewBackward0>)"
            ]
          },
          "metadata": {},
          "execution_count": 8
        }
      ],
      "source": [
        "model(x)"
      ]
    },
    {
      "cell_type": "markdown",
      "id": "84bb2fd0-37a2-4ebb-9984-eacdee0c166c",
      "metadata": {
        "id": "84bb2fd0-37a2-4ebb-9984-eacdee0c166c"
      },
      "source": [
        "노트: 추론 시에는 그레이디언트를 추적하지 않도록 `torch.no_grad()`나 `torch.inference_mode()` 컨텍스트를 사용하는 것도 좋습니다. 추론할 때 `.eval()`이 드롭아웃을 끈다는 것을 보이기 위해 위에서는 사용하지 않았습니다."
      ]
    },
    {
      "cell_type": "code",
      "execution_count": 9,
      "id": "636ddddb-e198-4ec5-acee-c52bf4f6a6ea",
      "metadata": {
        "id": "636ddddb-e198-4ec5-acee-c52bf4f6a6ea",
        "outputId": "d4520254-2caf-46f3-fdbe-1f1349da41c1",
        "colab": {
          "base_uri": "https://localhost:8080/"
        }
      },
      "outputs": [
        {
          "output_type": "stream",
          "name": "stdout",
          "text": [
            "tensor([-0.0458, -0.1777])\n"
          ]
        }
      ],
      "source": [
        "with torch.inference_mode():\n",
        "    print(model(x))"
      ]
    }
  ],
  "metadata": {
    "kernelspec": {
      "display_name": "Python 3 (ipykernel)",
      "language": "python",
      "name": "python3"
    },
    "language_info": {
      "codemirror_mode": {
        "name": "ipython",
        "version": 3
      },
      "file_extension": ".py",
      "mimetype": "text/x-python",
      "name": "python",
      "nbconvert_exporter": "python",
      "pygments_lexer": "ipython3",
      "version": "3.11.4"
    },
    "colab": {
      "provenance": [],
      "include_colab_link": true
    }
  },
  "nbformat": 4,
  "nbformat_minor": 5
}