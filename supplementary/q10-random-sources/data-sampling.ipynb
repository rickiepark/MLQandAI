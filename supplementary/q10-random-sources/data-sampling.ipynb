{
  "cells": [
    {
      "cell_type": "markdown",
      "metadata": {
        "id": "view-in-github",
        "colab_type": "text"
      },
      "source": [
        "<a href=\"https://colab.research.google.com/github/rickiepark/MLQandAI/blob/main/supplementary/q10-random-sources/data-sampling.ipynb\" target=\"_parent\"><img src=\"https://colab.research.google.com/assets/colab-badge.svg\" alt=\"Open In Colab\"/></a>"
      ]
    },
    {
      "cell_type": "markdown",
      "id": "e1096748-2cbb-4bf1-aa28-fd18dda97022",
      "metadata": {
        "id": "e1096748-2cbb-4bf1-aa28-fd18dda97022"
      },
      "source": [
        "# 데이터 샘플링과 셔플링"
      ]
    },
    {
      "cell_type": "markdown",
      "id": "ecdba48e-dbeb-4fd3-901f-88e71aec70d1",
      "metadata": {
        "id": "ecdba48e-dbeb-4fd3-901f-88e71aec70d1"
      },
      "source": [
        "### 랜덤 시드 없이 데이터 분할하기"
      ]
    },
    {
      "cell_type": "code",
      "execution_count": 1,
      "id": "e569e619-5e76-492a-b110-0e3b36cb9149",
      "metadata": {
        "id": "e569e619-5e76-492a-b110-0e3b36cb9149"
      },
      "outputs": [],
      "source": [
        "import numpy as np\n",
        "\n",
        "x_toydata = np.array([1., 2., 3., 4., 5., 6., 7., 8., 9.])\n",
        "y_labels = np.array([ 0,  1,  0,  1, 1,  0,  0,  1,  0 ])"
      ]
    },
    {
      "cell_type": "code",
      "execution_count": 2,
      "id": "c85040c1-81e3-4c08-9f07-644cd74cca8b",
      "metadata": {
        "id": "c85040c1-81e3-4c08-9f07-644cd74cca8b",
        "outputId": "496585d5-2e32-4c16-fb18-4a60ed180527",
        "colab": {
          "base_uri": "https://localhost:8080/"
        }
      },
      "outputs": [
        {
          "output_type": "stream",
          "name": "stdout",
          "text": [
            "X_train [3. 2. 5. 9. 4. 7.]\n",
            "X_test [1. 6. 8.]\n"
          ]
        }
      ],
      "source": [
        "from sklearn.model_selection import train_test_split\n",
        "\n",
        "X_train, X_test, y_train, y_test = train_test_split(\n",
        "    x_toydata, y_labels, test_size=0.3, shuffle=True, stratify=y_labels\n",
        ")\n",
        "\n",
        "print(\"X_train\", X_train)\n",
        "print(\"X_test\", X_test)"
      ]
    },
    {
      "cell_type": "code",
      "execution_count": 3,
      "id": "8631e484-791a-4adf-857a-2a0529a6bc1f",
      "metadata": {
        "id": "8631e484-791a-4adf-857a-2a0529a6bc1f",
        "outputId": "a29e24a7-8900-4624-d344-91dd2d653899",
        "colab": {
          "base_uri": "https://localhost:8080/"
        }
      },
      "outputs": [
        {
          "output_type": "stream",
          "name": "stdout",
          "text": [
            "X_train [2. 6. 3. 5. 7. 8.]\n",
            "X_test [9. 1. 4.]\n"
          ]
        }
      ],
      "source": [
        "X_train, X_test, y_train, y_test = train_test_split(\n",
        "    x_toydata, y_labels, test_size=0.3, shuffle=True, stratify=y_labels\n",
        ")\n",
        "\n",
        "print(\"X_train\", X_train)\n",
        "print(\"X_test\", X_test)"
      ]
    },
    {
      "cell_type": "markdown",
      "id": "3e8ecec5-b9d8-487c-872b-34537ab7c441",
      "metadata": {
        "id": "3e8ecec5-b9d8-487c-872b-34537ab7c441"
      },
      "source": [
        "### 랜덤 시드를 사용해 데이터 분할하기"
      ]
    },
    {
      "cell_type": "code",
      "execution_count": 4,
      "id": "d49b4ee6-b4ff-4d5b-adb4-3fc541fb0b9a",
      "metadata": {
        "id": "d49b4ee6-b4ff-4d5b-adb4-3fc541fb0b9a",
        "outputId": "12d69f52-de2a-4cd5-91ae-7212a22eba77",
        "colab": {
          "base_uri": "https://localhost:8080/"
        }
      },
      "outputs": [
        {
          "output_type": "stream",
          "name": "stdout",
          "text": [
            "X_train [9. 2. 8. 3. 5. 7.]\n",
            "X_test [4. 1. 6.]\n"
          ]
        }
      ],
      "source": [
        "X_train, X_test, y_train, y_test = train_test_split(\n",
        "    x_toydata, y_labels, test_size=0.3, shuffle=True, stratify=y_labels,\n",
        "    random_state=123\n",
        ")\n",
        "\n",
        "print(\"X_train\", X_train)\n",
        "print(\"X_test\", X_test)"
      ]
    },
    {
      "cell_type": "code",
      "execution_count": 5,
      "id": "e2a87370-de68-4c92-9d99-3faed33657f4",
      "metadata": {
        "id": "e2a87370-de68-4c92-9d99-3faed33657f4",
        "outputId": "d1c26353-8e8b-4017-8589-8b47a9d49311",
        "colab": {
          "base_uri": "https://localhost:8080/"
        }
      },
      "outputs": [
        {
          "output_type": "stream",
          "name": "stdout",
          "text": [
            "X_train [9. 2. 8. 3. 5. 7.]\n",
            "X_test [4. 1. 6.]\n"
          ]
        }
      ],
      "source": [
        "X_train, X_test, y_train, y_test = train_test_split(\n",
        "    x_toydata, y_labels, test_size=0.3, shuffle=True, stratify=y_labels,\n",
        "    random_state=123\n",
        ")\n",
        "\n",
        "print(\"X_train\", X_train)\n",
        "print(\"X_test\", X_test)"
      ]
    },
    {
      "cell_type": "markdown",
      "id": "2a5650fd-30b7-4d69-bbce-77f2c36ad272",
      "metadata": {
        "id": "2a5650fd-30b7-4d69-bbce-77f2c36ad272"
      },
      "source": [
        "### 랜덤 시드 없이 K-폴드 분할하기"
      ]
    },
    {
      "cell_type": "code",
      "execution_count": 6,
      "id": "9e234e41-2ac8-4aa9-b165-c30ee1a12448",
      "metadata": {
        "id": "9e234e41-2ac8-4aa9-b165-c30ee1a12448",
        "outputId": "fc21d49c-ebbf-43fa-c276-8e6b36277155",
        "colab": {
          "base_uri": "https://localhost:8080/"
        }
      },
      "outputs": [
        {
          "output_type": "stream",
          "name": "stdout",
          "text": [
            "특성 값 [2. 3. 4. 7. 8. 9.]\n",
            "특성 값 [1. 2. 3. 5. 6. 8.]\n",
            "특성 값 [1. 4. 5. 6. 7. 9.]\n"
          ]
        }
      ],
      "source": [
        "from sklearn.model_selection import StratifiedKFold\n",
        "\n",
        "cv = StratifiedKFold(n_splits=3, shuffle=True)\n",
        "\n",
        "for train_idx, valid_idx in cv.split(x_toydata, y_labels):\n",
        "    print(\"특성 값\", x_toydata[train_idx])"
      ]
    },
    {
      "cell_type": "code",
      "execution_count": 7,
      "id": "ba10c301-3346-4c21-913e-4c240d932084",
      "metadata": {
        "id": "ba10c301-3346-4c21-913e-4c240d932084",
        "outputId": "21bc1e0c-ba0c-4920-8d13-f6380c61278a",
        "colab": {
          "base_uri": "https://localhost:8080/"
        }
      },
      "outputs": [
        {
          "output_type": "stream",
          "name": "stdout",
          "text": [
            "특성 값 [2. 3. 4. 5. 6. 9.]\n",
            "특성 값 [1. 2. 5. 6. 7. 8.]\n",
            "특성 값 [1. 3. 4. 7. 8. 9.]\n"
          ]
        }
      ],
      "source": [
        "for train_idx, valid_idx in cv.split(x_toydata, y_labels):\n",
        "    print(\"특성 값\", x_toydata[train_idx])"
      ]
    },
    {
      "cell_type": "markdown",
      "id": "1961da6d-50ea-4247-82d8-c0ee3f592edd",
      "metadata": {
        "id": "1961da6d-50ea-4247-82d8-c0ee3f592edd"
      },
      "source": [
        "### 랜덤 시드를 사용해 K-폴드 분할하기"
      ]
    },
    {
      "cell_type": "code",
      "execution_count": 8,
      "id": "4f0390cb-ff36-4441-968e-cf1e2bde21ac",
      "metadata": {
        "id": "4f0390cb-ff36-4441-968e-cf1e2bde21ac",
        "outputId": "32eb4558-1db5-4c91-e5fe-f9927adae73a",
        "colab": {
          "base_uri": "https://localhost:8080/"
        }
      },
      "outputs": [
        {
          "output_type": "stream",
          "name": "stdout",
          "text": [
            "특성 값 [3. 4. 5. 6. 8. 9.]\n",
            "특성 값 [1. 2. 4. 5. 6. 7.]\n",
            "특성 값 [1. 2. 3. 7. 8. 9.]\n"
          ]
        }
      ],
      "source": [
        "cv = StratifiedKFold(n_splits=3, random_state=123, shuffle=True)\n",
        "\n",
        "for train_idx, valid_idx in cv.split(x_toydata, y_labels):\n",
        "    print(\"특성 값\", x_toydata[train_idx])"
      ]
    },
    {
      "cell_type": "code",
      "execution_count": 9,
      "id": "dd766cf8-c818-4f43-9b4c-a0d51ef8ec21",
      "metadata": {
        "id": "dd766cf8-c818-4f43-9b4c-a0d51ef8ec21",
        "outputId": "194c8772-6bac-47e0-e9a2-d5991ef8030b",
        "colab": {
          "base_uri": "https://localhost:8080/"
        }
      },
      "outputs": [
        {
          "output_type": "stream",
          "name": "stdout",
          "text": [
            "특성 값 [3. 4. 5. 6. 8. 9.]\n",
            "특성 값 [1. 2. 4. 5. 6. 7.]\n",
            "특성 값 [1. 2. 3. 7. 8. 9.]\n"
          ]
        }
      ],
      "source": [
        "cv = StratifiedKFold(n_splits=3, random_state=123, shuffle=True)\n",
        "\n",
        "for train_idx, valid_idx in cv.split(x_toydata, y_labels):\n",
        "    print(\"특성 값\", x_toydata[train_idx])"
      ]
    },
    {
      "cell_type": "markdown",
      "id": "6c9b9986",
      "metadata": {
        "id": "6c9b9986"
      },
      "source": [
        "## 랜덤 시드 없이 데이터셋 로드하기"
      ]
    },
    {
      "cell_type": "code",
      "execution_count": 10,
      "id": "82de5768",
      "metadata": {
        "id": "82de5768",
        "outputId": "75769d59-a90a-44d0-c2e5-64799bd94079",
        "colab": {
          "base_uri": "https://localhost:8080/"
        }
      },
      "outputs": [
        {
          "output_type": "stream",
          "name": "stdout",
          "text": [
            "Downloading http://yann.lecun.com/exdb/mnist/train-images-idx3-ubyte.gz\n",
            "Failed to download (trying next):\n",
            "HTTP Error 403: Forbidden\n",
            "\n",
            "Downloading https://ossci-datasets.s3.amazonaws.com/mnist/train-images-idx3-ubyte.gz\n",
            "Downloading https://ossci-datasets.s3.amazonaws.com/mnist/train-images-idx3-ubyte.gz to ./data/MNIST/raw/train-images-idx3-ubyte.gz\n"
          ]
        },
        {
          "output_type": "stream",
          "name": "stderr",
          "text": [
            "100%|██████████| 9912422/9912422 [00:00<00:00, 10639013.44it/s]\n"
          ]
        },
        {
          "output_type": "stream",
          "name": "stdout",
          "text": [
            "Extracting ./data/MNIST/raw/train-images-idx3-ubyte.gz to ./data/MNIST/raw\n",
            "\n",
            "Downloading http://yann.lecun.com/exdb/mnist/train-labels-idx1-ubyte.gz\n",
            "Failed to download (trying next):\n",
            "HTTP Error 403: Forbidden\n",
            "\n",
            "Downloading https://ossci-datasets.s3.amazonaws.com/mnist/train-labels-idx1-ubyte.gz\n",
            "Downloading https://ossci-datasets.s3.amazonaws.com/mnist/train-labels-idx1-ubyte.gz to ./data/MNIST/raw/train-labels-idx1-ubyte.gz\n"
          ]
        },
        {
          "output_type": "stream",
          "name": "stderr",
          "text": [
            "100%|██████████| 28881/28881 [00:00<00:00, 346639.77it/s]\n"
          ]
        },
        {
          "output_type": "stream",
          "name": "stdout",
          "text": [
            "Extracting ./data/MNIST/raw/train-labels-idx1-ubyte.gz to ./data/MNIST/raw\n",
            "\n",
            "Downloading http://yann.lecun.com/exdb/mnist/t10k-images-idx3-ubyte.gz\n",
            "Failed to download (trying next):\n",
            "HTTP Error 403: Forbidden\n",
            "\n",
            "Downloading https://ossci-datasets.s3.amazonaws.com/mnist/t10k-images-idx3-ubyte.gz\n",
            "Downloading https://ossci-datasets.s3.amazonaws.com/mnist/t10k-images-idx3-ubyte.gz to ./data/MNIST/raw/t10k-images-idx3-ubyte.gz\n"
          ]
        },
        {
          "output_type": "stream",
          "name": "stderr",
          "text": [
            "100%|██████████| 1648877/1648877 [00:00<00:00, 3201749.69it/s]\n"
          ]
        },
        {
          "output_type": "stream",
          "name": "stdout",
          "text": [
            "Extracting ./data/MNIST/raw/t10k-images-idx3-ubyte.gz to ./data/MNIST/raw\n",
            "\n",
            "Downloading http://yann.lecun.com/exdb/mnist/t10k-labels-idx1-ubyte.gz\n",
            "Failed to download (trying next):\n",
            "HTTP Error 403: Forbidden\n",
            "\n",
            "Downloading https://ossci-datasets.s3.amazonaws.com/mnist/t10k-labels-idx1-ubyte.gz\n",
            "Downloading https://ossci-datasets.s3.amazonaws.com/mnist/t10k-labels-idx1-ubyte.gz to ./data/MNIST/raw/t10k-labels-idx1-ubyte.gz\n"
          ]
        },
        {
          "output_type": "stream",
          "name": "stderr",
          "text": [
            "100%|██████████| 4542/4542 [00:00<00:00, 5121109.88it/s]\n"
          ]
        },
        {
          "output_type": "stream",
          "name": "stdout",
          "text": [
            "Extracting ./data/MNIST/raw/t10k-labels-idx1-ubyte.gz to ./data/MNIST/raw\n",
            "\n",
            "tensor([1, 1, 7, 0, 8, 1, 3, 8])\n"
          ]
        }
      ],
      "source": [
        "from torchvision import datasets, transforms\n",
        "from torch.utils.data import DataLoader\n",
        "\n",
        "\n",
        "train_dataset = datasets.MNIST(root='./data', train=True, transform=transforms.ToTensor(), download=True)\n",
        "train_loader = DataLoader(dataset=train_dataset, batch_size=8, shuffle=True)\n",
        "\n",
        "for inputs, labels in train_loader:\n",
        "    pass\n",
        "print(labels)"
      ]
    },
    {
      "cell_type": "code",
      "execution_count": 11,
      "id": "8def12a3",
      "metadata": {
        "id": "8def12a3",
        "outputId": "323e03ad-1db0-411d-a4f4-4a5b56cde4b6",
        "colab": {
          "base_uri": "https://localhost:8080/"
        }
      },
      "outputs": [
        {
          "output_type": "stream",
          "name": "stdout",
          "text": [
            "tensor([8, 0, 6, 5, 6, 2, 0, 1])\n"
          ]
        }
      ],
      "source": [
        "train_loader = DataLoader(dataset=train_dataset, batch_size=8, shuffle=True)\n",
        "\n",
        "for inputs, labels in train_loader:\n",
        "    pass\n",
        "print(labels)"
      ]
    },
    {
      "cell_type": "markdown",
      "id": "18d33c0c",
      "metadata": {
        "id": "18d33c0c"
      },
      "source": [
        "## 랜덤 시드를 사용해 데이터셋 로드하기"
      ]
    },
    {
      "cell_type": "code",
      "execution_count": 12,
      "id": "30627a3d",
      "metadata": {
        "id": "30627a3d",
        "outputId": "329a45ef-046c-4bc7-c4d6-aa53b1e8d040",
        "colab": {
          "base_uri": "https://localhost:8080/"
        }
      },
      "outputs": [
        {
          "output_type": "stream",
          "name": "stdout",
          "text": [
            "tensor([1, 8, 8, 7, 2, 5, 4, 1])\n"
          ]
        }
      ],
      "source": [
        "import torch\n",
        "\n",
        "torch.manual_seed(123)\n",
        "train_loader = DataLoader(dataset=train_dataset, batch_size=8, shuffle=True)\n",
        "\n",
        "for inputs, labels in train_loader:\n",
        "    pass\n",
        "print(labels)"
      ]
    },
    {
      "cell_type": "code",
      "execution_count": 13,
      "id": "e346084e",
      "metadata": {
        "id": "e346084e",
        "outputId": "2b32640a-f0c4-4a5d-849e-78c15b5a1684",
        "colab": {
          "base_uri": "https://localhost:8080/"
        }
      },
      "outputs": [
        {
          "output_type": "stream",
          "name": "stdout",
          "text": [
            "tensor([1, 8, 8, 7, 2, 5, 4, 1])\n"
          ]
        }
      ],
      "source": [
        "torch.manual_seed(123)\n",
        "train_loader = DataLoader(dataset=train_dataset, batch_size=8, shuffle=True)\n",
        "\n",
        "for inputs, labels in train_loader:\n",
        "    pass\n",
        "print(labels)"
      ]
    }
  ],
  "metadata": {
    "kernelspec": {
      "display_name": "Python 3 (ipykernel)",
      "language": "python",
      "name": "python3"
    },
    "language_info": {
      "codemirror_mode": {
        "name": "ipython",
        "version": 3
      },
      "file_extension": ".py",
      "mimetype": "text/x-python",
      "name": "python",
      "nbconvert_exporter": "python",
      "pygments_lexer": "ipython3",
      "version": "3.10.6"
    },
    "colab": {
      "provenance": [],
      "include_colab_link": true
    }
  },
  "nbformat": 4,
  "nbformat_minor": 5
}