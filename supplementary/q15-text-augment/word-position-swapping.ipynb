{
  "cells": [
    {
      "cell_type": "markdown",
      "metadata": {
        "id": "view-in-github",
        "colab_type": "text"
      },
      "source": [
        "<a href=\"https://colab.research.google.com/github/rickiepark/MLQandAI/blob/main/supplementary/q15-text-augment/sentence-order-shuffling.ipynb\" target=\"_parent\"><img src=\"https://colab.research.google.com/assets/colab-badge.svg\" alt=\"Open In Colab\"/></a>"
      ]
    },
    {
      "cell_type": "markdown",
      "id": "b050edae-48cf-47ba-b2ae-bf9fc9098bb4",
      "metadata": {
        "id": "b050edae-48cf-47ba-b2ae-bf9fc9098bb4"
      },
      "source": [
        "## 텍스트 증식을 위한 단어 섞기"
      ]
    },
    {
      "cell_type": "code",
      "execution_count": 1,
      "id": "0ab61d1f-466f-4469-99da-b172a959c2cb",
      "metadata": {
        "id": "0ab61d1f-466f-4469-99da-b172a959c2cb",
        "outputId": "f69a40ee-357b-4fe6-921e-2c33073eb060",
        "colab": {
          "base_uri": "https://localhost:8080/"
        }
      },
      "outputs": [
        {
          "output_type": "stream",
          "name": "stdout",
          "text": [
            "Collecting watermark\n",
            "  Downloading watermark-2.4.3-py2.py3-none-any.whl.metadata (1.4 kB)\n",
            "Requirement already satisfied: ipython>=6.0 in /usr/local/lib/python3.10/dist-packages (from watermark) (7.34.0)\n",
            "Requirement already satisfied: importlib-metadata>=1.4 in /usr/local/lib/python3.10/dist-packages (from watermark) (8.5.0)\n",
            "Requirement already satisfied: setuptools in /usr/local/lib/python3.10/dist-packages (from watermark) (71.0.4)\n",
            "Requirement already satisfied: zipp>=3.20 in /usr/local/lib/python3.10/dist-packages (from importlib-metadata>=1.4->watermark) (3.20.1)\n",
            "Collecting jedi>=0.16 (from ipython>=6.0->watermark)\n",
            "  Using cached jedi-0.19.1-py2.py3-none-any.whl.metadata (22 kB)\n",
            "Requirement already satisfied: decorator in /usr/local/lib/python3.10/dist-packages (from ipython>=6.0->watermark) (4.4.2)\n",
            "Requirement already satisfied: pickleshare in /usr/local/lib/python3.10/dist-packages (from ipython>=6.0->watermark) (0.7.5)\n",
            "Requirement already satisfied: traitlets>=4.2 in /usr/local/lib/python3.10/dist-packages (from ipython>=6.0->watermark) (5.7.1)\n",
            "Requirement already satisfied: prompt-toolkit!=3.0.0,!=3.0.1,<3.1.0,>=2.0.0 in /usr/local/lib/python3.10/dist-packages (from ipython>=6.0->watermark) (3.0.47)\n",
            "Requirement already satisfied: pygments in /usr/local/lib/python3.10/dist-packages (from ipython>=6.0->watermark) (2.16.1)\n",
            "Requirement already satisfied: backcall in /usr/local/lib/python3.10/dist-packages (from ipython>=6.0->watermark) (0.2.0)\n",
            "Requirement already satisfied: matplotlib-inline in /usr/local/lib/python3.10/dist-packages (from ipython>=6.0->watermark) (0.1.7)\n",
            "Requirement already satisfied: pexpect>4.3 in /usr/local/lib/python3.10/dist-packages (from ipython>=6.0->watermark) (4.9.0)\n",
            "Requirement already satisfied: parso<0.9.0,>=0.8.3 in /usr/local/lib/python3.10/dist-packages (from jedi>=0.16->ipython>=6.0->watermark) (0.8.4)\n",
            "Requirement already satisfied: ptyprocess>=0.5 in /usr/local/lib/python3.10/dist-packages (from pexpect>4.3->ipython>=6.0->watermark) (0.7.0)\n",
            "Requirement already satisfied: wcwidth in /usr/local/lib/python3.10/dist-packages (from prompt-toolkit!=3.0.0,!=3.0.1,<3.1.0,>=2.0.0->ipython>=6.0->watermark) (0.2.13)\n",
            "Downloading watermark-2.4.3-py2.py3-none-any.whl (7.6 kB)\n",
            "Using cached jedi-0.19.1-py2.py3-none-any.whl (1.6 MB)\n",
            "Installing collected packages: jedi, watermark\n",
            "Successfully installed jedi-0.19.1 watermark-2.4.3\n",
            "Author: Sebastian Raschka\n",
            "\n",
            "Python implementation: CPython\n",
            "Python version       : 3.10.12\n",
            "IPython version      : 7.34.0\n",
            "\n"
          ]
        }
      ],
      "source": [
        "!pip install watermark\n",
        "\n",
        "%load_ext watermark\n",
        "%watermark -a 'Sebastian Raschka' -v"
      ]
    },
    {
      "cell_type": "code",
      "execution_count": 2,
      "id": "1f2926e6-aeac-4a9b-b762-f8a4a891d5b9",
      "metadata": {
        "id": "1f2926e6-aeac-4a9b-b762-f8a4a891d5b9"
      },
      "outputs": [],
      "source": [
        "import random\n",
        "\n",
        "\n",
        "def word_position_swapping(sentence, swapping_rate=0.1):\n",
        "    words = sentence.split()\n",
        "    num_swaps = int(len(words) * swapping_rate)\n",
        "\n",
        "    for _ in range(num_swaps):\n",
        "        # 바꿀 두 개의 인덱스를 랜덤하게 선택합니다\n",
        "        index1, index2 = random.sample(range(len(words)), 2)\n",
        "\n",
        "        # 선택된 인덱스의 단어를 바꿉니다\n",
        "        words[index1], words[index2] = words[index2], words[index1]\n",
        "\n",
        "    return \" \".join(words)"
      ]
    },
    {
      "cell_type": "markdown",
      "id": "4f3bfef8-58ca-45c8-9762-9be6b23b06ef",
      "metadata": {
        "id": "4f3bfef8-58ca-45c8-9762-9be6b23b06ef"
      },
      "source": [
        "**20%를 섞기**"
      ]
    },
    {
      "cell_type": "code",
      "execution_count": 3,
      "id": "1820de77-bd90-4247-a7d3-1ff7dc429ff4",
      "metadata": {
        "id": "1820de77-bd90-4247-a7d3-1ff7dc429ff4",
        "outputId": "ad91e503-8e9d-4a09-9a72-e3cb0e0d372a",
        "colab": {
          "base_uri": "https://localhost:8080/"
        }
      },
      "outputs": [
        {
          "output_type": "stream",
          "name": "stdout",
          "text": [
            "The brown quick fox jumped over the lazy dog.\n"
          ]
        }
      ],
      "source": [
        "random.seed(1)\n",
        "sentence = \"The quick brown fox jumped over the lazy dog.\"\n",
        "augmented_sentence = word_position_swapping(sentence, swapping_rate=0.2)\n",
        "print(augmented_sentence)"
      ]
    },
    {
      "cell_type": "markdown",
      "id": "47edf286-4825-4274-94b4-d10423767646",
      "metadata": {
        "id": "47edf286-4825-4274-94b4-d10423767646"
      },
      "source": [
        "**섞이 전과 후의 차이**"
      ]
    },
    {
      "cell_type": "code",
      "execution_count": 4,
      "id": "823a4b6b-5c33-4fd5-ade7-3b718d902ad4",
      "metadata": {
        "id": "823a4b6b-5c33-4fd5-ade7-3b718d902ad4",
        "outputId": "1d1422d7-823f-4fbb-c5b4-65f35c765e52",
        "colab": {
          "base_uri": "https://localhost:8080/"
        }
      },
      "outputs": [
        {
          "output_type": "stream",
          "name": "stdout",
          "text": [
            "  The\n",
            "+ brown\n",
            "  quick\n",
            "- brown\n",
            "  fox\n",
            "  jumped\n",
            "  over\n",
            "  the\n",
            "  lazy\n",
            "  dog.\n"
          ]
        }
      ],
      "source": [
        "import difflib\n",
        "\n",
        "\n",
        "d = difflib.Differ()\n",
        "diff = d.compare(sentence.split(), augmented_sentence.split())\n",
        "\n",
        "print('\\n'.join(diff))"
      ]
    }
  ],
  "metadata": {
    "kernelspec": {
      "display_name": "Python 3 (ipykernel)",
      "language": "python",
      "name": "python3"
    },
    "language_info": {
      "codemirror_mode": {
        "name": "ipython",
        "version": 3
      },
      "file_extension": ".py",
      "mimetype": "text/x-python",
      "name": "python",
      "nbconvert_exporter": "python",
      "pygments_lexer": "ipython3",
      "version": "3.10.6"
    },
    "colab": {
      "provenance": [],
      "include_colab_link": true
    }
  },
  "nbformat": 4,
  "nbformat_minor": 5
}