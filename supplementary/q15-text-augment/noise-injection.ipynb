{
  "cells": [
    {
      "cell_type": "markdown",
      "metadata": {
        "id": "view-in-github",
        "colab_type": "text"
      },
      "source": [
        "<a href=\"https://colab.research.google.com/github/rickiepark/MLQandAI/blob/main/supplementary/q15-text-augment/noise-injection.ipynb\" target=\"_parent\"><img src=\"https://colab.research.google.com/assets/colab-badge.svg\" alt=\"Open In Colab\"/></a>"
      ]
    },
    {
      "cell_type": "markdown",
      "id": "b050edae-48cf-47ba-b2ae-bf9fc9098bb4",
      "metadata": {
        "id": "b050edae-48cf-47ba-b2ae-bf9fc9098bb4"
      },
      "source": [
        "## 데이터 증식을 위한 잡음 추가"
      ]
    },
    {
      "cell_type": "code",
      "execution_count": 1,
      "id": "0ab61d1f-466f-4469-99da-b172a959c2cb",
      "metadata": {
        "id": "0ab61d1f-466f-4469-99da-b172a959c2cb",
        "outputId": "332102e0-8f13-425b-ce0f-b456a723b638",
        "colab": {
          "base_uri": "https://localhost:8080/"
        }
      },
      "outputs": [
        {
          "output_type": "stream",
          "name": "stdout",
          "text": [
            "Collecting watermark\n",
            "  Downloading watermark-2.4.3-py2.py3-none-any.whl.metadata (1.4 kB)\n",
            "Requirement already satisfied: ipython>=6.0 in /usr/local/lib/python3.10/dist-packages (from watermark) (7.34.0)\n",
            "Requirement already satisfied: importlib-metadata>=1.4 in /usr/local/lib/python3.10/dist-packages (from watermark) (8.5.0)\n",
            "Requirement already satisfied: setuptools in /usr/local/lib/python3.10/dist-packages (from watermark) (71.0.4)\n",
            "Requirement already satisfied: zipp>=3.20 in /usr/local/lib/python3.10/dist-packages (from importlib-metadata>=1.4->watermark) (3.20.1)\n",
            "Collecting jedi>=0.16 (from ipython>=6.0->watermark)\n",
            "  Using cached jedi-0.19.1-py2.py3-none-any.whl.metadata (22 kB)\n",
            "Requirement already satisfied: decorator in /usr/local/lib/python3.10/dist-packages (from ipython>=6.0->watermark) (4.4.2)\n",
            "Requirement already satisfied: pickleshare in /usr/local/lib/python3.10/dist-packages (from ipython>=6.0->watermark) (0.7.5)\n",
            "Requirement already satisfied: traitlets>=4.2 in /usr/local/lib/python3.10/dist-packages (from ipython>=6.0->watermark) (5.7.1)\n",
            "Requirement already satisfied: prompt-toolkit!=3.0.0,!=3.0.1,<3.1.0,>=2.0.0 in /usr/local/lib/python3.10/dist-packages (from ipython>=6.0->watermark) (3.0.47)\n",
            "Requirement already satisfied: pygments in /usr/local/lib/python3.10/dist-packages (from ipython>=6.0->watermark) (2.16.1)\n",
            "Requirement already satisfied: backcall in /usr/local/lib/python3.10/dist-packages (from ipython>=6.0->watermark) (0.2.0)\n",
            "Requirement already satisfied: matplotlib-inline in /usr/local/lib/python3.10/dist-packages (from ipython>=6.0->watermark) (0.1.7)\n",
            "Requirement already satisfied: pexpect>4.3 in /usr/local/lib/python3.10/dist-packages (from ipython>=6.0->watermark) (4.9.0)\n",
            "Requirement already satisfied: parso<0.9.0,>=0.8.3 in /usr/local/lib/python3.10/dist-packages (from jedi>=0.16->ipython>=6.0->watermark) (0.8.4)\n",
            "Requirement already satisfied: ptyprocess>=0.5 in /usr/local/lib/python3.10/dist-packages (from pexpect>4.3->ipython>=6.0->watermark) (0.7.0)\n",
            "Requirement already satisfied: wcwidth in /usr/local/lib/python3.10/dist-packages (from prompt-toolkit!=3.0.0,!=3.0.1,<3.1.0,>=2.0.0->ipython>=6.0->watermark) (0.2.13)\n",
            "Downloading watermark-2.4.3-py2.py3-none-any.whl (7.6 kB)\n",
            "Using cached jedi-0.19.1-py2.py3-none-any.whl (1.6 MB)\n",
            "Installing collected packages: jedi, watermark\n",
            "Successfully installed jedi-0.19.1 watermark-2.4.3\n",
            "Author: Sebastian Raschka\n",
            "\n",
            "Python implementation: CPython\n",
            "Python version       : 3.10.12\n",
            "IPython version      : 7.34.0\n",
            "\n"
          ]
        }
      ],
      "source": [
        "!pip install watermark\n",
        "\n",
        "%load_ext watermark\n",
        "%watermark -a 'Sebastian Raschka' -v"
      ]
    },
    {
      "cell_type": "markdown",
      "id": "47edf286-4825-4274-94b4-d10423767646",
      "metadata": {
        "id": "47edf286-4825-4274-94b4-d10423767646"
      },
      "source": [
        "### 랜덤 문자 삽입"
      ]
    },
    {
      "cell_type": "code",
      "execution_count": 2,
      "id": "cc137461-a113-4e62-8bf0-37ea2f5ebdb0",
      "metadata": {
        "id": "cc137461-a113-4e62-8bf0-37ea2f5ebdb0"
      },
      "outputs": [],
      "source": [
        "import random\n",
        "import string\n",
        "\n",
        "\n",
        "def random_character_insertion(text, insertion_rate=0.1):\n",
        "    num_insertions = int(len(text) * insertion_rate)\n",
        "\n",
        "    for _ in range(num_insertions):\n",
        "        position = random.randint(0, len(text))\n",
        "        character = random.choice(string.ascii_letters)\n",
        "        text = text[:position] + character + text[position:]\n",
        "\n",
        "    return text"
      ]
    },
    {
      "cell_type": "code",
      "execution_count": 3,
      "id": "19443702-7195-4535-937b-d21ccf301bdd",
      "metadata": {
        "id": "19443702-7195-4535-937b-d21ccf301bdd",
        "outputId": "7fa8c2f7-44ca-410d-c870-ebfab5b9843b",
        "colab": {
          "base_uri": "https://localhost:8080/"
        }
      },
      "outputs": [
        {
          "output_type": "stream",
          "name": "stdout",
          "text": [
            "랜덤 문자 삽입: The Kcat jumped over the doZg.\n"
          ]
        }
      ],
      "source": [
        "random.seed(1)\n",
        "\n",
        "\n",
        "text = \"The cat jumped over the dog.\"\n",
        "augmented_text = random_character_insertion(text)\n",
        "print(\"랜덤 문자 삽입:\", augmented_text)"
      ]
    },
    {
      "cell_type": "code",
      "execution_count": 4,
      "id": "925d11d1-b3dc-4db5-b2dc-0a0228a13384",
      "metadata": {
        "id": "925d11d1-b3dc-4db5-b2dc-0a0228a13384",
        "outputId": "d54021b8-8d74-4de7-ea11-f646bdcec3f0",
        "colab": {
          "base_uri": "https://localhost:8080/"
        }
      },
      "outputs": [
        {
          "output_type": "stream",
          "name": "stdout",
          "text": [
            "  T\n",
            "  h\n",
            "  e\n",
            "   \n",
            "+ K\n",
            "  c\n",
            "  a\n",
            "  t\n",
            "   \n",
            "  j\n",
            "  u\n",
            "  m\n",
            "  p\n",
            "  e\n",
            "  d\n",
            "   \n",
            "  o\n",
            "  v\n",
            "  e\n",
            "  r\n",
            "   \n",
            "  t\n",
            "  h\n",
            "  e\n",
            "   \n",
            "  d\n",
            "  o\n",
            "+ Z\n",
            "  g\n",
            "  .\n"
          ]
        }
      ],
      "source": [
        "import difflib\n",
        "\n",
        "\n",
        "d = difflib.Differ()\n",
        "diff = d.compare(text,\n",
        "                 augmented_text)\n",
        "\n",
        "print('\\n'.join(diff))"
      ]
    },
    {
      "cell_type": "markdown",
      "id": "040eabc9-2583-4547-bafa-b5883382486b",
      "metadata": {
        "id": "040eabc9-2583-4547-bafa-b5883382486b"
      },
      "source": [
        "### 랜덤 문자 삭제"
      ]
    },
    {
      "cell_type": "code",
      "execution_count": 5,
      "id": "4f927974-c05c-4a70-b813-6423503b3711",
      "metadata": {
        "id": "4f927974-c05c-4a70-b813-6423503b3711"
      },
      "outputs": [],
      "source": [
        "import random\n",
        "\n",
        "def random_character_deletion(text, deletion_rate=0.1):\n",
        "\n",
        "    num_deletions = int(len(text) * deletion_rate)\n",
        "\n",
        "    for _ in range(num_deletions):\n",
        "        if len(text) == 0:\n",
        "            break\n",
        "        position = random.randint(0, len(text) - 1)\n",
        "        text = text[:position] + text[position + 1:]\n",
        "\n",
        "    return text"
      ]
    },
    {
      "cell_type": "code",
      "execution_count": 6,
      "id": "44409283-de8c-4a93-b27c-205c929823f6",
      "metadata": {
        "id": "44409283-de8c-4a93-b27c-205c929823f6",
        "outputId": "b094ea45-84bb-4fd5-bd24-c195a78ffb69",
        "colab": {
          "base_uri": "https://localhost:8080/"
        }
      },
      "outputs": [
        {
          "output_type": "stream",
          "name": "stdout",
          "text": [
            "랜덤 문자 삭제: The at jumped overthe dog.\n"
          ]
        }
      ],
      "source": [
        "random.seed(1)\n",
        "\n",
        "\n",
        "text = \"The cat jumped over the dog.\"\n",
        "augmented_text = random_character_deletion(text)\n",
        "print(\"랜덤 문자 삭제:\", augmented_text)"
      ]
    },
    {
      "cell_type": "code",
      "execution_count": 7,
      "id": "a635453c-c1c8-4494-9c1a-d40fbaebb9fd",
      "metadata": {
        "id": "a635453c-c1c8-4494-9c1a-d40fbaebb9fd",
        "outputId": "e367e38c-c18c-41fe-884f-2b54dee0e0c3",
        "colab": {
          "base_uri": "https://localhost:8080/"
        }
      },
      "outputs": [
        {
          "output_type": "stream",
          "name": "stdout",
          "text": [
            "  T\n",
            "  h\n",
            "  e\n",
            "   \n",
            "- c\n",
            "  a\n",
            "  t\n",
            "   \n",
            "  j\n",
            "  u\n",
            "  m\n",
            "  p\n",
            "  e\n",
            "  d\n",
            "   \n",
            "  o\n",
            "  v\n",
            "  e\n",
            "  r\n",
            "-  \n",
            "  t\n",
            "  h\n",
            "  e\n",
            "   \n",
            "  d\n",
            "  o\n",
            "  g\n",
            "  .\n"
          ]
        }
      ],
      "source": [
        "import difflib\n",
        "\n",
        "\n",
        "d = difflib.Differ()\n",
        "diff = d.compare(text,\n",
        "                 augmented_text)\n",
        "\n",
        "print('\\n'.join(diff))"
      ]
    },
    {
      "cell_type": "markdown",
      "id": "8c82f867-7537-462a-a61a-f9063328d92d",
      "metadata": {
        "id": "8c82f867-7537-462a-a61a-f9063328d92d"
      },
      "source": [
        "### 오타 생성"
      ]
    },
    {
      "cell_type": "code",
      "execution_count": 8,
      "id": "1be9b70a-e07a-4ce1-9e15-5a5457c25f3e",
      "metadata": {
        "id": "1be9b70a-e07a-4ce1-9e15-5a5457c25f3e"
      },
      "outputs": [],
      "source": [
        "import random\n",
        "\n",
        "def typo_introduction(text, introduction_rate=0.1):\n",
        "    num_typos = int(len(text) * introduction_rate)\n",
        "\n",
        "    for _ in range(num_typos):\n",
        "        # Ensure there are at least two characters to swap\n",
        "        if len(text) < 2:\n",
        "            break\n",
        "        position = random.randint(0, len(text) - 2)\n",
        "        text = text[:position] + text[position + 1] + text[position] + text[position + 2:]\n",
        "\n",
        "    return text"
      ]
    },
    {
      "cell_type": "code",
      "execution_count": 9,
      "id": "b3b7d05b-348c-42d7-9e34-3aafdbcef894",
      "metadata": {
        "id": "b3b7d05b-348c-42d7-9e34-3aafdbcef894",
        "outputId": "04d2cc39-9951-40d9-d90e-3e17431708d9",
        "colab": {
          "base_uri": "https://localhost:8080/"
        }
      },
      "outputs": [
        {
          "output_type": "stream",
          "name": "stdout",
          "text": [
            "오타 생성: The act jumped ove rthe dog.\n"
          ]
        }
      ],
      "source": [
        "random.seed(1)\n",
        "\n",
        "\n",
        "text = \"The cat jumped over the dog.\"\n",
        "augmented_text = typo_introduction(text)\n",
        "print(\"오타 생성:\", augmented_text)"
      ]
    },
    {
      "cell_type": "code",
      "execution_count": 10,
      "id": "aaf83ea4-89bc-456b-b834-88bc1a3845cb",
      "metadata": {
        "id": "aaf83ea4-89bc-456b-b834-88bc1a3845cb",
        "outputId": "9c927dcf-7655-4d33-9076-457c327124b3",
        "colab": {
          "base_uri": "https://localhost:8080/"
        }
      },
      "outputs": [
        {
          "output_type": "stream",
          "name": "stdout",
          "text": [
            "  T\n",
            "  h\n",
            "  e\n",
            "   \n",
            "+ a\n",
            "  c\n",
            "- a\n",
            "  t\n",
            "   \n",
            "  j\n",
            "  u\n",
            "  m\n",
            "  p\n",
            "  e\n",
            "  d\n",
            "   \n",
            "  o\n",
            "  v\n",
            "  e\n",
            "+  \n",
            "  r\n",
            "-  \n",
            "  t\n",
            "  h\n",
            "  e\n",
            "   \n",
            "  d\n",
            "  o\n",
            "  g\n",
            "  .\n"
          ]
        }
      ],
      "source": [
        "import difflib\n",
        "\n",
        "\n",
        "d = difflib.Differ()\n",
        "diff = d.compare(text,\n",
        "                 augmented_text)\n",
        "\n",
        "print('\\n'.join(diff))"
      ]
    }
  ],
  "metadata": {
    "kernelspec": {
      "display_name": "Python 3 (ipykernel)",
      "language": "python",
      "name": "python3"
    },
    "language_info": {
      "codemirror_mode": {
        "name": "ipython",
        "version": 3
      },
      "file_extension": ".py",
      "mimetype": "text/x-python",
      "name": "python",
      "nbconvert_exporter": "python",
      "pygments_lexer": "ipython3",
      "version": "3.10.6"
    },
    "colab": {
      "provenance": [],
      "include_colab_link": true
    }
  },
  "nbformat": 4,
  "nbformat_minor": 5
}