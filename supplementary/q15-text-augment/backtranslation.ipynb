{
  "cells": [
    {
      "cell_type": "markdown",
      "metadata": {
        "id": "view-in-github",
        "colab_type": "text"
      },
      "source": [
        "<a href=\"https://colab.research.google.com/github/rickiepark/MLQandAI/blob/main/supplementary/q15-text-augment/backtranslation.ipynb\" target=\"_parent\"><img src=\"https://colab.research.google.com/assets/colab-badge.svg\" alt=\"Open In Colab\"/></a>"
      ]
    },
    {
      "cell_type": "markdown",
      "id": "d28595f6-33ab-4d4d-8373-b4db36681366",
      "metadata": {
        "id": "d28595f6-33ab-4d4d-8373-b4db36681366"
      },
      "source": [
        "## 데이터 증식을 위한 역번역"
      ]
    },
    {
      "cell_type": "code",
      "execution_count": 1,
      "id": "0bef5a6b-bf9e-4b41-aace-d0d98ac42ce4",
      "metadata": {
        "id": "0bef5a6b-bf9e-4b41-aace-d0d98ac42ce4",
        "outputId": "37a96ba3-5154-4a4b-8ba1-5e948d4bb436",
        "colab": {
          "base_uri": "https://localhost:8080/"
        }
      },
      "outputs": [
        {
          "output_type": "stream",
          "name": "stdout",
          "text": [
            "Requirement already satisfied: watermark in /usr/local/lib/python3.10/dist-packages (2.4.3)\n",
            "Requirement already satisfied: sacremoses in /usr/local/lib/python3.10/dist-packages (0.1.1)\n",
            "Requirement already satisfied: ipython>=6.0 in /usr/local/lib/python3.10/dist-packages (from watermark) (7.34.0)\n",
            "Requirement already satisfied: importlib-metadata>=1.4 in /usr/local/lib/python3.10/dist-packages (from watermark) (8.5.0)\n",
            "Requirement already satisfied: setuptools in /usr/local/lib/python3.10/dist-packages (from watermark) (71.0.4)\n",
            "Requirement already satisfied: regex in /usr/local/lib/python3.10/dist-packages (from sacremoses) (2024.5.15)\n",
            "Requirement already satisfied: click in /usr/local/lib/python3.10/dist-packages (from sacremoses) (8.1.7)\n",
            "Requirement already satisfied: joblib in /usr/local/lib/python3.10/dist-packages (from sacremoses) (1.4.2)\n",
            "Requirement already satisfied: tqdm in /usr/local/lib/python3.10/dist-packages (from sacremoses) (4.66.5)\n",
            "Requirement already satisfied: zipp>=3.20 in /usr/local/lib/python3.10/dist-packages (from importlib-metadata>=1.4->watermark) (3.20.1)\n",
            "Requirement already satisfied: jedi>=0.16 in /usr/local/lib/python3.10/dist-packages (from ipython>=6.0->watermark) (0.19.1)\n",
            "Requirement already satisfied: decorator in /usr/local/lib/python3.10/dist-packages (from ipython>=6.0->watermark) (4.4.2)\n",
            "Requirement already satisfied: pickleshare in /usr/local/lib/python3.10/dist-packages (from ipython>=6.0->watermark) (0.7.5)\n",
            "Requirement already satisfied: traitlets>=4.2 in /usr/local/lib/python3.10/dist-packages (from ipython>=6.0->watermark) (5.7.1)\n",
            "Requirement already satisfied: prompt-toolkit!=3.0.0,!=3.0.1,<3.1.0,>=2.0.0 in /usr/local/lib/python3.10/dist-packages (from ipython>=6.0->watermark) (3.0.47)\n",
            "Requirement already satisfied: pygments in /usr/local/lib/python3.10/dist-packages (from ipython>=6.0->watermark) (2.16.1)\n",
            "Requirement already satisfied: backcall in /usr/local/lib/python3.10/dist-packages (from ipython>=6.0->watermark) (0.2.0)\n",
            "Requirement already satisfied: matplotlib-inline in /usr/local/lib/python3.10/dist-packages (from ipython>=6.0->watermark) (0.1.7)\n",
            "Requirement already satisfied: pexpect>4.3 in /usr/local/lib/python3.10/dist-packages (from ipython>=6.0->watermark) (4.9.0)\n",
            "Requirement already satisfied: parso<0.9.0,>=0.8.3 in /usr/local/lib/python3.10/dist-packages (from jedi>=0.16->ipython>=6.0->watermark) (0.8.4)\n",
            "Requirement already satisfied: ptyprocess>=0.5 in /usr/local/lib/python3.10/dist-packages (from pexpect>4.3->ipython>=6.0->watermark) (0.7.0)\n",
            "Requirement already satisfied: wcwidth in /usr/local/lib/python3.10/dist-packages (from prompt-toolkit!=3.0.0,!=3.0.1,<3.1.0,>=2.0.0->ipython>=6.0->watermark) (0.2.13)\n",
            "Author: Sebastian Raschka\n",
            "\n",
            "Python implementation: CPython\n",
            "Python version       : 3.10.12\n",
            "IPython version      : 7.34.0\n",
            "\n",
            "transformers: 4.44.2\n",
            "\n"
          ]
        }
      ],
      "source": [
        "!pip install watermark sacremoses\n",
        "\n",
        "%load_ext watermark\n",
        "%watermark -a 'Sebastian Raschka' -v -p transformers"
      ]
    },
    {
      "cell_type": "code",
      "execution_count": 2,
      "id": "01a56e71-a68d-4c99-ba42-d32b6f626621",
      "metadata": {
        "id": "01a56e71-a68d-4c99-ba42-d32b6f626621"
      },
      "outputs": [],
      "source": [
        "from transformers import MarianMTModel, MarianTokenizer\n",
        "\n",
        "def back_translate(text):\n",
        "    # 영어를 독일어로\n",
        "    en_to_de_model_name = \"Helsinki-NLP/opus-mt-en-de\"\n",
        "    en_to_de_tokenizer = MarianTokenizer.from_pretrained(en_to_de_model_name,\n",
        "                                                         clean_up_tokenization_spaces=False)\n",
        "    en_to_de_model = MarianMTModel.from_pretrained(en_to_de_model_name)\n",
        "\n",
        "    inputs = en_to_de_tokenizer([text], return_tensors=\"pt\")\n",
        "    translated_german_tokens = en_to_de_model.generate(**inputs)\n",
        "    translated_german_text = en_to_de_tokenizer.decode(translated_german_tokens[0], skip_special_tokens=True)\n",
        "\n",
        "    # 독일어를 영어로\n",
        "    de_to_en_model_name = 'Helsinki-NLP/opus-mt-de-en'\n",
        "    de_to_en_tokenizer = MarianTokenizer.from_pretrained(de_to_en_model_name,\n",
        "                                                         clean_up_tokenization_spaces=False)\n",
        "    de_to_en_model = MarianMTModel.from_pretrained(de_to_en_model_name)\n",
        "\n",
        "    inputs_back = de_to_en_tokenizer([translated_german_text], return_tensors=\"pt\")\n",
        "    translated_english_tokens = de_to_en_model.generate(**inputs_back)\n",
        "    translated_back_english_text = de_to_en_tokenizer.decode(translated_english_tokens[0], skip_special_tokens=True)\n",
        "\n",
        "    return translated_german_text, translated_back_english_text"
      ]
    },
    {
      "cell_type": "code",
      "execution_count": 3,
      "id": "d1807b7e-88da-41d4-9d75-27bbfc14278d",
      "metadata": {
        "id": "d1807b7e-88da-41d4-9d75-27bbfc14278d",
        "outputId": "5acbe496-8675-4359-d6e5-826112ca40be",
        "colab": {
          "base_uri": "https://localhost:8080/"
        }
      },
      "outputs": [
        {
          "output_type": "stream",
          "name": "stderr",
          "text": [
            "/usr/local/lib/python3.10/dist-packages/huggingface_hub/utils/_token.py:89: UserWarning: \n",
            "The secret `HF_TOKEN` does not exist in your Colab secrets.\n",
            "To authenticate with the Hugging Face Hub, create a token in your settings tab (https://huggingface.co/settings/tokens), set it as secret in your Google Colab and restart your session.\n",
            "You will be able to reuse this secret in all of your notebooks.\n",
            "Please note that authentication is recommended but still optional to access public models or datasets.\n",
            "  warnings.warn(\n"
          ]
        },
        {
          "output_type": "stream",
          "name": "stdout",
          "text": [
            "원본 텍스트:\n",
            "Despite the intermittent rain showers, Amelia decided to venture outside with her new umbrella, hoping to enjoy the fresh air and perhaps bump into some old friends at the local café down the street.\n",
            "--------------------------\n",
            "번역된 텍스트:\n",
            "Trotz der periodischen Regenschauer entschied sich Amelia, sich mit ihrem neuen Regenschirm nach draußen zu wagen, in der Hoffnung, die frische Luft zu genießen und vielleicht einige alte Freunde im örtlichen Café auf der Straße zu treffen.\n",
            "--------------------------\n",
            "역번역된 텍스트:\n",
            "Despite the periodic rain showers, Amelia decided to venture outside with her new umbrella, hoping to enjoy the fresh air and perhaps meet some old friends in the local café on the street.\n",
            "--------------------------\n"
          ]
        }
      ],
      "source": [
        "text = (\"Despite the intermittent rain showers, \"\n",
        "        \"Amelia decided to venture outside with \"\n",
        "        \"her new umbrella, hoping to enjoy the fresh \"\n",
        "        \"air and perhaps bump into some old friends \"\n",
        "        \"at the local café down the street.\"\n",
        "       )\n",
        "\n",
        "translated_text, back_translated_text = back_translate(text)\n",
        "\n",
        "print(\"원본 텍스트:\")\n",
        "print(text)\n",
        "print(\"--------------------------\")\n",
        "\n",
        "print(\"번역된 텍스트:\")\n",
        "print(translated_text)\n",
        "print(\"--------------------------\")\n",
        "\n",
        "print(\"역번역된 텍스트:\")\n",
        "print(back_translated_text)\n",
        "print(\"--------------------------\")"
      ]
    },
    {
      "cell_type": "code",
      "execution_count": 4,
      "id": "370ccc24-102a-4df5-a1b3-04448e2e6669",
      "metadata": {
        "id": "370ccc24-102a-4df5-a1b3-04448e2e6669",
        "outputId": "7c10da77-ca73-42c3-ebaf-16f12a218077",
        "colab": {
          "base_uri": "https://localhost:8080/"
        }
      },
      "outputs": [
        {
          "output_type": "stream",
          "name": "stdout",
          "text": [
            "  Despite\n",
            "  the\n",
            "- intermittent\n",
            "+ periodic\n",
            "  rain\n",
            "  showers,\n",
            "  Amelia\n",
            "  decided\n",
            "  to\n",
            "  venture\n",
            "  outside\n",
            "  with\n",
            "  her\n",
            "  new\n",
            "  umbrella,\n",
            "  hoping\n",
            "  to\n",
            "  enjoy\n",
            "  the\n",
            "  fresh\n",
            "  air\n",
            "  and\n",
            "  perhaps\n",
            "+ meet\n",
            "- bump\n",
            "- into\n",
            "  some\n",
            "  old\n",
            "  friends\n",
            "- at\n",
            "+ in\n",
            "  the\n",
            "  local\n",
            "  café\n",
            "- down\n",
            "+ on\n",
            "  the\n",
            "  street.\n"
          ]
        }
      ],
      "source": [
        "import difflib\n",
        "\n",
        "\n",
        "d = difflib.Differ()\n",
        "diff = d.compare(text.split(),\n",
        "                 back_translated_text.split())\n",
        "\n",
        "print('\\n'.join(diff))"
      ]
    }
  ],
  "metadata": {
    "kernelspec": {
      "display_name": "Python 3 (ipykernel)",
      "language": "python",
      "name": "python3"
    },
    "language_info": {
      "codemirror_mode": {
        "name": "ipython",
        "version": 3
      },
      "file_extension": ".py",
      "mimetype": "text/x-python",
      "name": "python",
      "nbconvert_exporter": "python",
      "pygments_lexer": "ipython3",
      "version": "3.10.6"
    },
    "colab": {
      "provenance": [],
      "include_colab_link": true
    }
  },
  "nbformat": 4,
  "nbformat_minor": 5
}