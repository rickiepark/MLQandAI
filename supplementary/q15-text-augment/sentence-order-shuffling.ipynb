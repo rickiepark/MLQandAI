{
  "cells": [
    {
      "cell_type": "markdown",
      "metadata": {
        "id": "view-in-github",
        "colab_type": "text"
      },
      "source": [
        "<a href=\"https://colab.research.google.com/github/rickiepark/MLQandAI/blob/main/supplementary/q15-text-augment/sentence-order-shuffling.ipynb\" target=\"_parent\"><img src=\"https://colab.research.google.com/assets/colab-badge.svg\" alt=\"Open In Colab\"/></a>"
      ]
    },
    {
      "cell_type": "markdown",
      "id": "b050edae-48cf-47ba-b2ae-bf9fc9098bb4",
      "metadata": {
        "id": "b050edae-48cf-47ba-b2ae-bf9fc9098bb4"
      },
      "source": [
        "## 데이터 증식을 위한 문장 섞기"
      ]
    },
    {
      "cell_type": "code",
      "execution_count": 5,
      "id": "0ab61d1f-466f-4469-99da-b172a959c2cb",
      "metadata": {
        "id": "0ab61d1f-466f-4469-99da-b172a959c2cb",
        "outputId": "aca2b885-207e-438b-f8e3-ea9aa0ab313f",
        "colab": {
          "base_uri": "https://localhost:8080/"
        }
      },
      "outputs": [
        {
          "output_type": "stream",
          "name": "stdout",
          "text": [
            "Requirement already satisfied: watermark in /usr/local/lib/python3.10/dist-packages (2.4.3)\n",
            "Requirement already satisfied: ipython>=6.0 in /usr/local/lib/python3.10/dist-packages (from watermark) (7.34.0)\n",
            "Requirement already satisfied: importlib-metadata>=1.4 in /usr/local/lib/python3.10/dist-packages (from watermark) (8.5.0)\n",
            "Requirement already satisfied: setuptools in /usr/local/lib/python3.10/dist-packages (from watermark) (71.0.4)\n",
            "Requirement already satisfied: zipp>=3.20 in /usr/local/lib/python3.10/dist-packages (from importlib-metadata>=1.4->watermark) (3.20.1)\n",
            "Requirement already satisfied: jedi>=0.16 in /usr/local/lib/python3.10/dist-packages (from ipython>=6.0->watermark) (0.19.1)\n",
            "Requirement already satisfied: decorator in /usr/local/lib/python3.10/dist-packages (from ipython>=6.0->watermark) (4.4.2)\n",
            "Requirement already satisfied: pickleshare in /usr/local/lib/python3.10/dist-packages (from ipython>=6.0->watermark) (0.7.5)\n",
            "Requirement already satisfied: traitlets>=4.2 in /usr/local/lib/python3.10/dist-packages (from ipython>=6.0->watermark) (5.7.1)\n",
            "Requirement already satisfied: prompt-toolkit!=3.0.0,!=3.0.1,<3.1.0,>=2.0.0 in /usr/local/lib/python3.10/dist-packages (from ipython>=6.0->watermark) (3.0.47)\n",
            "Requirement already satisfied: pygments in /usr/local/lib/python3.10/dist-packages (from ipython>=6.0->watermark) (2.16.1)\n",
            "Requirement already satisfied: backcall in /usr/local/lib/python3.10/dist-packages (from ipython>=6.0->watermark) (0.2.0)\n",
            "Requirement already satisfied: matplotlib-inline in /usr/local/lib/python3.10/dist-packages (from ipython>=6.0->watermark) (0.1.7)\n",
            "Requirement already satisfied: pexpect>4.3 in /usr/local/lib/python3.10/dist-packages (from ipython>=6.0->watermark) (4.9.0)\n",
            "Requirement already satisfied: parso<0.9.0,>=0.8.3 in /usr/local/lib/python3.10/dist-packages (from jedi>=0.16->ipython>=6.0->watermark) (0.8.4)\n",
            "Requirement already satisfied: ptyprocess>=0.5 in /usr/local/lib/python3.10/dist-packages (from pexpect>4.3->ipython>=6.0->watermark) (0.7.0)\n",
            "Requirement already satisfied: wcwidth in /usr/local/lib/python3.10/dist-packages (from prompt-toolkit!=3.0.0,!=3.0.1,<3.1.0,>=2.0.0->ipython>=6.0->watermark) (0.2.13)\n",
            "The watermark extension is already loaded. To reload it, use:\n",
            "  %reload_ext watermark\n",
            "Author: Sebastian Raschka\n",
            "\n",
            "Python implementation: CPython\n",
            "Python version       : 3.10.12\n",
            "IPython version      : 7.34.0\n",
            "\n"
          ]
        }
      ],
      "source": [
        "!pip install watermark\n",
        "\n",
        "%load_ext watermark\n",
        "%watermark -a 'Sebastian Raschka' -v"
      ]
    },
    {
      "cell_type": "code",
      "execution_count": 6,
      "id": "1f2926e6-aeac-4a9b-b762-f8a4a891d5b9",
      "metadata": {
        "id": "1f2926e6-aeac-4a9b-b762-f8a4a891d5b9"
      },
      "outputs": [],
      "source": [
        "import random\n",
        "import re\n",
        "\n",
        "\n",
        "def sentence_order_shuffling(text):\n",
        "\n",
        "    # 마침표나 물음표를 기준으로 나누기\n",
        "    sentences = re.split(r'[.!?] ', text)\n",
        "    random.shuffle(sentences)\n",
        "    return '. '.join(sentences)"
      ]
    },
    {
      "cell_type": "markdown",
      "id": "4f3bfef8-58ca-45c8-9762-9be6b23b06ef",
      "metadata": {
        "id": "4f3bfef8-58ca-45c8-9762-9be6b23b06ef"
      },
      "source": [
        "**20%를 랜덤하게 섞기**"
      ]
    },
    {
      "cell_type": "code",
      "execution_count": 7,
      "id": "1820de77-bd90-4247-a7d3-1ff7dc429ff4",
      "metadata": {
        "id": "1820de77-bd90-4247-a7d3-1ff7dc429ff4",
        "outputId": "ac7cf4fa-5735-4b5d-fd9d-a2b04db84133",
        "colab": {
          "base_uri": "https://localhost:8080/"
        }
      },
      "outputs": [
        {
          "output_type": "stream",
          "name": "stdout",
          "text": [
            "원본 문단:\n",
            " The cat quickly jumped over the lazy dog. It was a sunny day, and the park was full of people. The children were playing, and the birds were singing.\n",
            "\n",
            "증식된 문단:\n",
            " It was a sunny day, and the park was full of people. The children were playing, and the birds were singing.. The cat quickly jumped over the lazy dog\n"
          ]
        }
      ],
      "source": [
        "random.seed(1)\n",
        "\n",
        "paragraph = (\"The cat quickly jumped over the lazy dog. \"\n",
        "             \"It was a sunny day, and the park was full of people. \"\n",
        "             \"The children were playing, and the birds were singing.\")\n",
        "\n",
        "augmented_paragraph = sentence_order_shuffling(paragraph)\n",
        "\n",
        "print(\"원본 문단:\\n\", paragraph)\n",
        "print(\"\\n증식된 문단:\\n\", augmented_paragraph)"
      ]
    },
    {
      "cell_type": "markdown",
      "id": "47edf286-4825-4274-94b4-d10423767646",
      "metadata": {
        "id": "47edf286-4825-4274-94b4-d10423767646"
      },
      "source": [
        "**변경 전과 후의 차이**"
      ]
    },
    {
      "cell_type": "code",
      "execution_count": 8,
      "id": "823a4b6b-5c33-4fd5-ade7-3b718d902ad4",
      "metadata": {
        "id": "823a4b6b-5c33-4fd5-ade7-3b718d902ad4",
        "outputId": "db77267a-701c-45db-fb1f-506be5f36b1c",
        "colab": {
          "base_uri": "https://localhost:8080/"
        }
      },
      "outputs": [
        {
          "output_type": "stream",
          "name": "stdout",
          "text": [
            "- The\n",
            "- cat\n",
            "- quickly\n",
            "- jumped\n",
            "- over\n",
            "- the\n",
            "- lazy\n",
            "- dog.\n",
            "  It\n",
            "  was\n",
            "  a\n",
            "  sunny\n",
            "  day,\n",
            "  and\n",
            "  the\n",
            "  park\n",
            "  was\n",
            "  full\n",
            "  of\n",
            "  people.\n",
            "  The\n",
            "  children\n",
            "  were\n",
            "  playing,\n",
            "  and\n",
            "  the\n",
            "  birds\n",
            "  were\n",
            "- singing.\n",
            "+ singing..\n",
            "?         +\n",
            "\n",
            "+ The\n",
            "+ cat\n",
            "+ quickly\n",
            "+ jumped\n",
            "+ over\n",
            "+ the\n",
            "+ lazy\n",
            "+ dog\n"
          ]
        }
      ],
      "source": [
        "import difflib\n",
        "\n",
        "\n",
        "d = difflib.Differ()\n",
        "diff = d.compare(paragraph.split(), augmented_paragraph.split())\n",
        "\n",
        "print('\\n'.join(diff))"
      ]
    }
  ],
  "metadata": {
    "kernelspec": {
      "display_name": "Python 3 (ipykernel)",
      "language": "python",
      "name": "python3"
    },
    "language_info": {
      "codemirror_mode": {
        "name": "ipython",
        "version": 3
      },
      "file_extension": ".py",
      "mimetype": "text/x-python",
      "name": "python",
      "nbconvert_exporter": "python",
      "pygments_lexer": "ipython3",
      "version": "3.10.6"
    },
    "colab": {
      "provenance": [],
      "include_colab_link": true
    }
  },
  "nbformat": 4,
  "nbformat_minor": 5
}